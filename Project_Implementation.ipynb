{
 "cells": [
  {
   "cell_type": "code",
   "execution_count": 1,
   "metadata": {},
   "outputs": [],
   "source": [
    "%reload_ext google.cloud.bigquery\n",
    "from datetime import date\n",
    "import numpy as np\n",
    "import pandas as pd\n",
    "import matplotlib as mpl\n",
    "import seaborn as sns\n",
    "import matplotlib.pyplot as plt\n",
    "from datetime import datetime\n",
    "import dateutil\n",
    "from IPython.display import display, HTML\n",
    "import os\n",
    "\n",
    "CDR_version=%env WORKSPACE_CDR"
   ]
  },
  {
   "cell_type": "markdown",
   "metadata": {},
   "source": [
    "### Defining MDD Case Individuals\n",
    "Case: \n",
    "1. Has any instances ever of any diagnostic code for depression, and \n",
    "2. Fails to qualify by the 2/30/180 rule for diagnosis of depression with pyschosis, and \n",
    "3. Qualifies by the 2/30/180 rule for diagnosis of major depression <br>\n",
    "2/30/180 = This rule requires evidence to be present on at least two (2) distinct calendar days that are at least thirty (30) days apart and not more than one hundred and eighty (180) days apart.  For example, to qualify as a major depression case (depression type 2), a patient’s record must have at least two instances of diagnosis codes for major depression, and the dates associated with these diagnoses must be at least 30 days but not more than 180 days apart. <br>"
   ]
  },
  {
   "cell_type": "code",
   "execution_count": 2,
   "metadata": {},
   "outputs": [],
   "source": [
    "all_codes_icd9 = \",\".join([\"'\"+code+\"'\" for code in ['296.34', '298', \"296.2\", \"296.21\", \"296.22\", \"296.23\", \n",
    "                                                     \"296.25\", \"296.26\", \"296.3\", \"296.31\", \"296.32\", \n",
    "                                                     \"296.33\", \"296.35\", \"296.36\", \"311\", \"300.4\", \"309.1\"]])\n",
    "all_codes_icd10 = \",\".join([\"'\"+code+\"'\" for code in ['F32.3', 'F33.3', \"F32.0\", \"F32.1\", \"F32.2\", \"F32.4\", \n",
    "                                                      \"F32.5\", \"F32.9\", \"F33.0\", \"F33.1\", \"F33.2\", \"F33.40\", \n",
    "                                                      \"F33.41\", \"F33.42\",\"F33.9\", \"F32.89\", \"F33.8\", \"F43.21\"]])\n",
    "\n",
    "query = (\"\"\"\n",
    "SELECT distinct * \n",
    "FROM \n",
    "    (SELECT DISTINCT person_id, condition_source_concept_id, condition_source_value, condition_start_date \n",
    "        FROM `\"\"\"+CDR_version+\"\"\".condition_occurrence`) AS cond \n",
    "     INNER JOIN \n",
    "        (SELECT DISTINCT concept_id, concept_name, concept_code, vocabulary_id \n",
    "            FROM `\"\"\"+CDR_version+\"\"\".concept` \n",
    "            where (concept_code in (\"\"\"+all_codes_icd9+\"\"\") \n",
    "            and vocabulary_id ='ICD9CM') or (concept_code in (\"\"\"+all_codes_icd10+\"\"\")\n",
    "            and vocabulary_id ='ICD10CM')) as concept \n",
    "            on concept.concept_id = cond.condition_source_concept_id\n",
    "            INNER JOIN `\"\"\"+CDR_version+\"\"\".cb_search_person` as is_genotyped\n",
    "            ON cond.person_id = is_genotyped.person_id\n",
    "            WHERE is_genotyped.has_whole_genome_variant = 1\n",
    "            \n",
    "\"\"\")\n",
    "all_dep_codes = pd.read_gbq(query, dialect=\"standard\")"
   ]
  },
  {
   "cell_type": "code",
   "execution_count": 3,
   "metadata": {},
   "outputs": [],
   "source": [
    "def _aggregate(x):\n",
    "        d = {}\n",
    "        distances =x.condition_start_date.diff()\n",
    "        d['at_least_30_days_and_no_more_than_180_days'] = np.any((np.abs(distances.dt.days)>=30) & \n",
    "                                                                 (np.abs(distances.dt.days)<=180))\n",
    "        d['Count'] = len(x)\n",
    "        d['condition_start_date'] = x['condition_start_date'].min()\n",
    "        return pd.Series(d, index=['at_least_30_days_and_no_more_than_180_days', 'Count', 'condition_start_date'])\n",
    "\n",
    "# find and then exclude all patients that qualitfy for depression with psychosis by 2/30/180 rule (type 1)\n",
    "type1_inds = all_dep_codes.loc[all_dep_codes['concept_code'].isin(['296.34', '298',\n",
    "                                                                  'F32.3', 'F33.3'])]\n",
    "type1_inds_nodups = type1_inds.drop_duplicates(subset=['person_id', 'condition_start_date', 'concept_code'])\n",
    "type1_inds_nodups.sort_values(by='condition_start_date', inplace=True)\n",
    "type1_inds_nodups = type1_inds_nodups.groupby(['person_id'], as_index=False).apply(_aggregate)\n",
    "type1_final = type1_inds_nodups[(type1_inds_nodups.Count>=2)&\n",
    "                                (type1_inds_nodups.at_least_30_days_and_no_more_than_180_days)]\n",
    "\n",
    "dep_cases_notype1 = all_dep_codes.loc[~all_dep_codes['person_id'].isin(type1_final['person_id'])]\n"
   ]
  },
  {
   "cell_type": "code",
   "execution_count": 4,
   "metadata": {},
   "outputs": [],
   "source": [
    "# qualifies for MDD by 2/30/180 rule (type 2)\n",
    "dep_cases_notype1 = dep_cases_notype1.loc[all_dep_codes['concept_code'].isin([\"296.2\", \"296.21\", \"296.22\", \"296.23\", \n",
    "                                                                   \"296.25\", \"296.26\",\"296.3\", \"296.31\", \n",
    "                                                                   \"296.32\", \"296.33\", \"296.35\", \"296.36\",\n",
    "                                                                   \"F32.0\", \"F32.1\", \"F32.2\", \"F32.4\", \n",
    "                                                                   \"F32.5\", \"F32.9\", \"F33.0\", \"F33.1\", \n",
    "                                                                   \"F33.2\", \"F33.40\", \"F33.41\", \"F33.42\", \n",
    "                                                                   \"F33.9\"])]\n",
    "type2_nodups = dep_cases_notype1.drop_duplicates(subset=['person_id', 'condition_start_date', 'concept_code'])\n",
    "type2_nodups.sort_values(by='condition_start_date', inplace=True)\n",
    "type2_nodups = type2_nodups.groupby(['person_id'], as_index=False).apply(_aggregate)\n",
    "type2_final = type2_nodups[(type2_nodups.Count>=2)&(type2_nodups.at_least_30_days_and_no_more_than_180_days)]"
   ]
  },
  {
   "cell_type": "code",
   "execution_count": 5,
   "metadata": {},
   "outputs": [],
   "source": [
    "cases = type2_final.reset_index()"
   ]
  },
  {
   "cell_type": "code",
   "execution_count": 6,
   "metadata": {},
   "outputs": [
    {
     "name": "stdout",
     "output_type": "stream",
     "text": [
      "There are 23092 MDD cases identified with the eMERGE algorithm\n"
     ]
    }
   ],
   "source": [
    "print(\"There are\", cases.shape[0], \"MDD cases identified with the eMERGE algorithm\")"
   ]
  },
  {
   "cell_type": "markdown",
   "metadata": {},
   "source": [
    "### Extracting Medication Information \n",
    "\n",
    "The phenotyping algorithm for medication consideration will have the following criteria: \n",
    "1. For medication to be considered, MDD diagnositc code needed to appear before or after 30 days of the medication dispense date\n"
   ]
  },
  {
   "cell_type": "code",
   "execution_count": 7,
   "metadata": {},
   "outputs": [],
   "source": [
    "mdd_patients = \",\".join([\"'\"+str(person)+\"'\" for person in cases.person_id])\n",
    "query = \"\"\"\n",
    "SELECT DISTINCT dr.person_id, \n",
    "dr.drug_concept_ID, \n",
    "dr.drug_exposure_start_date, \n",
    "dr.drug_exposure_id, \n",
    "d_standard_concept.concept_name as standard_concept_name\n",
    "FROM `\"\"\"+CDR_version+\"\"\".drug_exposure` dr\n",
    "LEFT JOIN `\"\"\" +CDR_version+ \"\"\".concept` d_standard_concept \n",
    "ON dr.drug_concept_ID = d_standard_concept.concept_id\n",
    "WHERE cast(dr.person_id as string) in (\"\"\"+mdd_patients+\"\"\")\n",
    "AND (d_standard_concept.concept_name LIKE 'citalopram%' OR \n",
    "d_standard_concept.concept_name LIKE 'escitalopram%' OR\n",
    "d_standard_concept.concept_name LIKE 'fluoxetine%' OR\n",
    "d_standard_concept.concept_name LIKE 'paroxetine%' OR\n",
    "d_standard_concept.concept_name LIKE 'fluvoxamine%' OR\n",
    "d_standard_concept.concept_name LIKE 'sertraline%' OR\n",
    "d_standard_concept.concept_name LIKE 'desvenlafaxine%' OR\n",
    "d_standard_concept.concept_name LIKE 'duloxetine%' OR\n",
    "d_standard_concept.concept_name LIKE 'levomilnacipran%' OR\n",
    "d_standard_concept.concept_name LIKE 'milnacipran%' OR\n",
    "d_standard_concept.concept_name LIKE 'venlafaxine%' OR\n",
    "d_standard_concept.concept_name LIKE 'bupropion%' OR\n",
    "d_standard_concept.concept_name LIKE 'mirtazapine%' OR\n",
    "d_standard_concept.concept_name LIKE 'nefazodone%' OR\n",
    "d_standard_concept.concept_name LIKE 'trazodone%' OR\n",
    "d_standard_concept.concept_name LIKE 'vilazodone%' OR\n",
    "d_standard_concept.concept_name LIKE 'vortioxetine%' OR\n",
    "d_standard_concept.concept_name LIKE 'imipramine%' OR\n",
    "d_standard_concept.concept_name LIKE 'amitriptyline%' OR\n",
    "d_standard_concept.concept_name LIKE 'amoxapine%' OR\n",
    "d_standard_concept.concept_name LIKE 'clomipramine%' OR\n",
    "d_standard_concept.concept_name LIKE 'desipramine%' OR\n",
    "d_standard_concept.concept_name LIKE 'doxepin%' OR\n",
    "d_standard_concept.concept_name LIKE 'maprotiline%' OR\n",
    "d_standard_concept.concept_name LIKE 'nortriptyline%' OR\n",
    "d_standard_concept.concept_name LIKE 'protriptyline%' OR\n",
    "d_standard_concept.concept_name LIKE 'trimipramine%' OR\n",
    "d_standard_concept.concept_name LIKE 'isocarboxazid%' OR\n",
    "d_standard_concept.concept_name LIKE 'phenelzine%' OR\n",
    "d_standard_concept.concept_name LIKE 'selegiline%' OR\n",
    "d_standard_concept.concept_name LIKE 'tranylcypromine%' OR\n",
    "d_standard_concept.concept_name LIKE 'sulrpide%' OR\n",
    "d_standard_concept.concept_name LIKE 'aripiprazole%' OR\n",
    "d_standard_concept.concept_name LIKE 'quetiapine%' OR\n",
    "d_standard_concept.concept_name LIKE 'olanzapine%' OR\n",
    "d_standard_concept.concept_name LIKE 'clozapine%' OR\n",
    "d_standard_concept.concept_name LIKE 'ziprasidone%' OR\n",
    "d_standard_concept.concept_name LIKE 'risperidone%')\n",
    "\"\"\"\n",
    "\n",
    "medication = pd.read_gbq(query, \n",
    "                         dialect=\"standard\",\n",
    "                         use_bqstorage_api=(\"BIGQUERY_STORAGE_API_ENABLED\" in os.environ))"
   ]
  },
  {
   "cell_type": "code",
   "execution_count": 8,
   "metadata": {},
   "outputs": [
    {
     "data": {
      "text/plain": [
       "19370"
      ]
     },
     "execution_count": 8,
     "metadata": {},
     "output_type": "execute_result"
    }
   ],
   "source": [
    "len(medication.person_id.unique())"
   ]
  },
  {
   "cell_type": "code",
   "execution_count": 9,
   "metadata": {},
   "outputs": [],
   "source": [
    "medication['drug'] = medication.standard_concept_name.apply(lambda x: x.split(' ', 1)[0])\n",
    "\n",
    "medication['category'] = (np.select([medication['drug'].isin(['citalopram', 'escitalopram', 'fluoxetine', \n",
    "                                                              'fluvoxamine', 'paroxetine', 'sertraline']),\n",
    "                                     medication['drug'].isin(['desvenlafaxine', 'duloxetine', 'levomilnacipran', \n",
    "                                                              'milnacipran', 'venlafaxine']),\n",
    "                                     medication['drug'].isin(['bupropion', 'mirtazapine']),\n",
    "                                     medication['drug'].isin(['nefazodone', 'trazodone', 'vilazodone', \n",
    "                                                              'vortioxetine']),\n",
    "                                     medication['drug'].isin(['imipramine', 'amitriptyline', 'amoxapine', \n",
    "                                                              'clomipramine', 'desipramine', 'doxepin', \n",
    "                                                              'maprotiline', 'nortriptyline', 'protriptyline', \n",
    "                                                              'trimipramine']),\n",
    "                                     medication['drug'].isin(['isocarboxazid', 'phenelzine', \n",
    "                                                              'selegiline', 'tranylcypromine']),\n",
    "                                     medication['drug'].isin(['sulrpide', 'aripiprazole', \n",
    "                                                              'quetiapine', 'olanzapine', \n",
    "                                                              'clozapine', 'ziprasidone', \n",
    "                                                              'risperidone'])]\n",
    "                                    ,['SSRI','SNRI','Atypical','Serotonin','Tricyclic','MAOIs','Antipsychotics']))"
   ]
  },
  {
   "cell_type": "markdown",
   "metadata": {},
   "source": [
    "### Defining SSRI Switchers for Major depression\n",
    "\n",
    "SSRI switchers were defined as participants being prescribed an SSRI who then received a prescription for another antidepressant within a 90-day window, from 5-95 days of the initial prescription (a switching event). The following additional criteria were applied:\n",
    "\n",
    "1. a minimum of 5-day window between prescriptions to avoid capturing overlapping prescriptions of two antidepressants (augmentation) as switches and maximum of 90 days ;\n",
    "\n",
    "2. the pre-switch SSRI was prescribed ≤ 3 times in total to ensure transient exposure;\n",
    "\n",
    "3. the pre-switch SSRI was prescribed ≤ 2 times before the switch date, to capture early switchers specifically; and\n",
    "\n",
    "4. the pre-switch SSRI was prescribed ≤ 2 times after the switch date, to ensure augmentation is not captured, while giving a brief allowance period for cross-tapering.\n",
    "\n",
    "SSRI non-switchers were defined as patients who did not switch from any SSRIs, and received ≥ 3 prescriptions for an SSRI.\n",
    "\n",
    "The SSRI index date was defined as the first prescription date for the SSRI in switchers and non-switchers. "
   ]
  },
  {
   "cell_type": "code",
   "execution_count": 10,
   "metadata": {},
   "outputs": [],
   "source": [
    "meds_nodups = medication.drop_duplicates(subset=['person_id', \n",
    "                                                'drug_exposure_start_date', \n",
    "                                                'standard_concept_name'])\n",
    "meds_nodups = meds_nodups.dropna(subset=['person_id'])"
   ]
  },
  {
   "cell_type": "markdown",
   "metadata": {},
   "source": [
    "#### Defining SSRI non-switchers"
   ]
  },
  {
   "cell_type": "code",
   "execution_count": 11,
   "metadata": {},
   "outputs": [],
   "source": [
    "# SSRI non-switchers\n",
    "# defined as patients who did not switch from any SSRIs\n",
    "# and received ≥ 3 prescriptions for an SSRI.\n",
    "\n",
    "only_used_ssris = []\n",
    "for patient, pt_meds in meds_nodups.groupby('person_id'):\n",
    "    if set(pt_meds['category'].unique()).issubset({'SSRI'}):\n",
    "        # Count how many SSRIs this patient has\n",
    "        ssri_count = (pt_meds['category'] == 'SSRI').sum()\n",
    "        # Only add patients who have more than 3 SSRIs\n",
    "        if ssri_count > 3:\n",
    "            only_used_ssris.append(patient)"
   ]
  },
  {
   "cell_type": "code",
   "execution_count": 12,
   "metadata": {},
   "outputs": [
    {
     "data": {
      "text/plain": [
       "2609"
      ]
     },
     "execution_count": 12,
     "metadata": {},
     "output_type": "execute_result"
    }
   ],
   "source": [
    "len(set(only_used_ssris))"
   ]
  },
  {
   "cell_type": "markdown",
   "metadata": {},
   "source": [
    "#### Defining SSRI switchers"
   ]
  },
  {
   "cell_type": "code",
   "execution_count": 13,
   "metadata": {},
   "outputs": [],
   "source": [
    "# remove individuals in the only_used_ssris\n",
    "possible_cases = meds_nodups[~meds_nodups['person_id'].isin(only_used_ssris)]\n",
    "# remove individuals who have only 1 instance in their medical history\n",
    "possible_cases = possible_cases.groupby('person_id').filter(lambda group: len(group) > 1)"
   ]
  },
  {
   "cell_type": "code",
   "execution_count": 14,
   "metadata": {},
   "outputs": [],
   "source": [
    "# get the patients whose first prescription was an SSRI and not in the only_used_ssris\n",
    "first_med_is_SSRI = []\n",
    "for patient, pt_meds in possible_cases.groupby('person_id'):\n",
    "    sorted_med = pt_meds.sort_values(by=['drug_exposure_start_date']).reset_index()\n",
    "    if sorted_med['category'].iloc[0] == 'SSRI':\n",
    "        first_med_is_SSRI.append(patient)"
   ]
  },
  {
   "cell_type": "code",
   "execution_count": 15,
   "metadata": {},
   "outputs": [],
   "source": [
    "extract_cases = possible_cases[possible_cases.person_id.isin(first_med_is_SSRI)]"
   ]
  },
  {
   "cell_type": "code",
   "execution_count": 16,
   "metadata": {},
   "outputs": [
    {
     "data": {
      "text/plain": [
       "7174"
      ]
     },
     "execution_count": 16,
     "metadata": {},
     "output_type": "execute_result"
    }
   ],
   "source": [
    "len(extract_cases.person_id.unique())"
   ]
  },
  {
   "cell_type": "code",
   "execution_count": 17,
   "metadata": {},
   "outputs": [],
   "source": [
    "# remove individuals whose first treatment was an augmentation with SSRI\n",
    "def check_for_augmentation(group):\n",
    "    first_drug = group.iloc[0]\n",
    "    second_drug = group.iloc[1]\n",
    "\n",
    "    # Step 3: Check the date difference (within 5 days) and drug name\n",
    "    date_diff = (second_drug['drug_exposure_start_date'] - first_drug['drug_exposure_start_date']).days\n",
    "    same_drug_name = first_drug['category'] == second_drug['category']\n",
    "\n",
    "    # Step 4: Remove the patient if conditions are met\n",
    "    if date_diff <= 5 and not same_drug_name:\n",
    "        return False  # This patient should be excluded\n",
    "    return True  # Keep the patient\n",
    "\n",
    "extract_cases = extract_cases.sort_values(by=['person_id', 'drug_exposure_start_date'])\n",
    "filtered_patients = extract_cases.groupby('person_id').filter(check_for_augmentation)"
   ]
  },
  {
   "cell_type": "code",
   "execution_count": 18,
   "metadata": {},
   "outputs": [
    {
     "data": {
      "text/plain": [
       "6429"
      ]
     },
     "execution_count": 18,
     "metadata": {},
     "output_type": "execute_result"
    }
   ],
   "source": [
    "len(filtered_patients.person_id.unique())"
   ]
  },
  {
   "cell_type": "code",
   "execution_count": 19,
   "metadata": {},
   "outputs": [],
   "source": [
    "def meet_criteria(subset):\n",
    "    subset = subset.sort_values(by=['drug_exposure_start_date']).reset_index(drop=True)\n",
    "    first_category = subset.loc[0, 'category']\n",
    "    switch_idx = subset[(subset['category'] != first_category)]['drug_exposure_start_date'].index\n",
    "    \n",
    "    if switch_idx.empty:\n",
    "        return False\n",
    "    \n",
    "    idx = switch_idx[0]\n",
    "    diff = (subset.loc[idx, 'drug_exposure_start_date'] - subset.loc[idx-1, 'drug_exposure_start_date']).days\n",
    "\n",
    "    if not (5 <= diff <= 95):#(diff < 5) or (diff > 95):\n",
    "        return False\n",
    "    ssri_count = (subset['drug'] == subset.loc[idx-1, 'drug']).sum()\n",
    "    if ssri_count > 3:\n",
    "        return False\n",
    "\n",
    "    before_switch = subset.iloc[:idx]\n",
    "    after_switch = subset.iloc[idx:]\n",
    "\n",
    "    count_before_index = (before_switch['drug'] == subset.loc[idx-1, 'drug']).sum()\n",
    "    count_after_index = (after_switch['drug'] == subset.loc[idx-1, 'drug']).sum()\n",
    "\n",
    "    if count_before_index > 2:\n",
    "        return False\n",
    "    if count_after_index > 2:\n",
    "        return False\n",
    "    # If all conditions are satisfied for the entire history, return True to keep this patient\n",
    "    return True\n",
    "ssri_switchers = filtered_patients.groupby('person_id').filter(meet_criteria)\n"
   ]
  },
  {
   "cell_type": "code",
   "execution_count": 20,
   "metadata": {},
   "outputs": [
    {
     "data": {
      "text/plain": [
       "355"
      ]
     },
     "execution_count": 20,
     "metadata": {},
     "output_type": "execute_result"
    }
   ],
   "source": [
    "len(ssri_switchers.person_id.unique())"
   ]
  },
  {
   "cell_type": "code",
   "execution_count": null,
   "metadata": {},
   "outputs": [],
   "source": []
  },
  {
   "cell_type": "markdown",
   "metadata": {},
   "source": [
    "### Feature Selection \n",
    "1. OMIM and HPO to determine phecodes describing SSRI switching\n",
    "2. Select highly enriched phecodes in SSRI switching cohort as compared to non-SSRI switching and then rank phecodes by p-value to select top K phecodes \n",
    "3. Phecodes related to symptoms of SSRI switching i.e. mood disorder, suicidal ideation, alcohol use disorder, substance use disorder, eating disorder, anxiety, etc.\n",
    "4. Polygenic Risk Score for MDD\n",
    "5. age, sex, smoking, first 10 PCs"
   ]
  },
  {
   "cell_type": "code",
   "execution_count": 21,
   "metadata": {},
   "outputs": [
    {
     "data": {
      "application/vnd.jupyter.widget-view+json": {
       "model_id": "ca414470a52946fda39ccae152be12b9",
       "version_major": 2,
       "version_minor": 0
      },
      "text/plain": [
       "Downloading:   0%|          | 0/245388 [00:00<?, ?rows/s]"
      ]
     },
     "metadata": {},
     "output_type": "display_data"
    },
    {
     "data": {
      "text/html": [
       "<div>\n",
       "<style scoped>\n",
       "    .dataframe tbody tr th:only-of-type {\n",
       "        vertical-align: middle;\n",
       "    }\n",
       "\n",
       "    .dataframe tbody tr th {\n",
       "        vertical-align: top;\n",
       "    }\n",
       "\n",
       "    .dataframe thead th {\n",
       "        text-align: right;\n",
       "    }\n",
       "</style>\n",
       "<table border=\"1\" class=\"dataframe\">\n",
       "  <thead>\n",
       "    <tr style=\"text-align: right;\">\n",
       "      <th></th>\n",
       "      <th>ID</th>\n",
       "      <th>gender_concept_id</th>\n",
       "      <th>gender</th>\n",
       "      <th>birth_date</th>\n",
       "      <th>race_concept_id</th>\n",
       "      <th>race</th>\n",
       "      <th>ethnicity_concept_id</th>\n",
       "      <th>ethnicity</th>\n",
       "      <th>sex_at_birth_concept_id</th>\n",
       "      <th>self_identified_sex</th>\n",
       "    </tr>\n",
       "  </thead>\n",
       "  <tbody>\n",
       "    <tr>\n",
       "      <th>0</th>\n",
       "      <td>1036100</td>\n",
       "      <td>1585843</td>\n",
       "      <td>Gender Identity: Additional Options</td>\n",
       "      <td>1996-06-15 00:00:00+00:00</td>\n",
       "      <td>1177221</td>\n",
       "      <td>I prefer not to answer</td>\n",
       "      <td>903079</td>\n",
       "      <td>PMI: Prefer Not To Answer</td>\n",
       "      <td>4124462</td>\n",
       "      <td>None</td>\n",
       "    </tr>\n",
       "    <tr>\n",
       "      <th>1</th>\n",
       "      <td>1938775</td>\n",
       "      <td>1585843</td>\n",
       "      <td>Gender Identity: Additional Options</td>\n",
       "      <td>1986-06-15 00:00:00+00:00</td>\n",
       "      <td>1177221</td>\n",
       "      <td>I prefer not to answer</td>\n",
       "      <td>903079</td>\n",
       "      <td>PMI: Prefer Not To Answer</td>\n",
       "      <td>4124462</td>\n",
       "      <td>None</td>\n",
       "    </tr>\n",
       "    <tr>\n",
       "      <th>2</th>\n",
       "      <td>3028890</td>\n",
       "      <td>1585843</td>\n",
       "      <td>Gender Identity: Additional Options</td>\n",
       "      <td>1982-06-15 00:00:00+00:00</td>\n",
       "      <td>1177221</td>\n",
       "      <td>I prefer not to answer</td>\n",
       "      <td>903079</td>\n",
       "      <td>PMI: Prefer Not To Answer</td>\n",
       "      <td>4124462</td>\n",
       "      <td>None</td>\n",
       "    </tr>\n",
       "    <tr>\n",
       "      <th>3</th>\n",
       "      <td>2061175</td>\n",
       "      <td>1177221</td>\n",
       "      <td>I prefer not to answer</td>\n",
       "      <td>1997-06-15 00:00:00+00:00</td>\n",
       "      <td>1177221</td>\n",
       "      <td>I prefer not to answer</td>\n",
       "      <td>903079</td>\n",
       "      <td>PMI: Prefer Not To Answer</td>\n",
       "      <td>4124462</td>\n",
       "      <td>None</td>\n",
       "    </tr>\n",
       "    <tr>\n",
       "      <th>4</th>\n",
       "      <td>9251240</td>\n",
       "      <td>1177221</td>\n",
       "      <td>I prefer not to answer</td>\n",
       "      <td>1979-06-15 00:00:00+00:00</td>\n",
       "      <td>1177221</td>\n",
       "      <td>I prefer not to answer</td>\n",
       "      <td>903079</td>\n",
       "      <td>PMI: Prefer Not To Answer</td>\n",
       "      <td>4124462</td>\n",
       "      <td>None</td>\n",
       "    </tr>\n",
       "  </tbody>\n",
       "</table>\n",
       "</div>"
      ],
      "text/plain": [
       "        ID  gender_concept_id                               gender  \\\n",
       "0  1036100            1585843  Gender Identity: Additional Options   \n",
       "1  1938775            1585843  Gender Identity: Additional Options   \n",
       "2  3028890            1585843  Gender Identity: Additional Options   \n",
       "3  2061175            1177221               I prefer not to answer   \n",
       "4  9251240            1177221               I prefer not to answer   \n",
       "\n",
       "                 birth_date  race_concept_id                    race  \\\n",
       "0 1996-06-15 00:00:00+00:00          1177221  I prefer not to answer   \n",
       "1 1986-06-15 00:00:00+00:00          1177221  I prefer not to answer   \n",
       "2 1982-06-15 00:00:00+00:00          1177221  I prefer not to answer   \n",
       "3 1997-06-15 00:00:00+00:00          1177221  I prefer not to answer   \n",
       "4 1979-06-15 00:00:00+00:00          1177221  I prefer not to answer   \n",
       "\n",
       "   ethnicity_concept_id                  ethnicity  sex_at_birth_concept_id  \\\n",
       "0                903079  PMI: Prefer Not To Answer                  4124462   \n",
       "1                903079  PMI: Prefer Not To Answer                  4124462   \n",
       "2                903079  PMI: Prefer Not To Answer                  4124462   \n",
       "3                903079  PMI: Prefer Not To Answer                  4124462   \n",
       "4                903079  PMI: Prefer Not To Answer                  4124462   \n",
       "\n",
       "  self_identified_sex  \n",
       "0                None  \n",
       "1                None  \n",
       "2                None  \n",
       "3                None  \n",
       "4                None  "
      ]
     },
     "execution_count": 21,
     "metadata": {},
     "output_type": "execute_result"
    }
   ],
   "source": [
    "demographic_sql = \"\"\"\n",
    "    SELECT\n",
    "        person.person_id as ID,\n",
    "        person.gender_concept_id,\n",
    "        p_gender_concept.concept_name as gender,\n",
    "        person.birth_datetime as birth_date,\n",
    "        person.race_concept_id,\n",
    "        p_race_concept.concept_name as race,\n",
    "        person.ethnicity_concept_id,\n",
    "        p_ethnicity_concept.concept_name as ethnicity,\n",
    "        person.sex_at_birth_concept_id,\n",
    "        p_sex_at_birth_concept.concept_name as self_identified_sex \n",
    "    FROM\n",
    "        `\"\"\" + os.environ[\"WORKSPACE_CDR\"] + \"\"\".person` person \n",
    "    LEFT JOIN\n",
    "        `\"\"\" + os.environ[\"WORKSPACE_CDR\"] + \"\"\".concept` p_gender_concept \n",
    "            ON person.gender_concept_id = p_gender_concept.concept_id \n",
    "    LEFT JOIN\n",
    "        `\"\"\" + os.environ[\"WORKSPACE_CDR\"] + \"\"\".concept` p_race_concept \n",
    "            ON person.race_concept_id = p_race_concept.concept_id \n",
    "    LEFT JOIN\n",
    "        `\"\"\" + os.environ[\"WORKSPACE_CDR\"] + \"\"\".concept` p_ethnicity_concept \n",
    "            ON person.ethnicity_concept_id = p_ethnicity_concept.concept_id \n",
    "    LEFT JOIN\n",
    "        `\"\"\" + os.environ[\"WORKSPACE_CDR\"] + \"\"\".concept` p_sex_at_birth_concept \n",
    "            ON person.sex_at_birth_concept_id = p_sex_at_birth_concept.concept_id\n",
    "    WHERE person.PERSON_ID IN (\n",
    "    SELECT distinct cb_search_person.person_id  \n",
    "    FROM\n",
    "        `\"\"\" + os.environ[\"WORKSPACE_CDR\"] + \"\"\".cb_search_person` cb_search_person  \n",
    "        WHERE cb_search_person.has_whole_genome_variant = 1 )\"\"\"\n",
    "\n",
    "demographic_df = pd.read_gbq(\n",
    "    demographic_sql,\n",
    "    dialect=\"standard\",\n",
    "    use_bqstorage_api=(\"BIGQUERY_STORAGE_API_ENABLED\" in os.environ),\n",
    "    progress_bar_type=\"tqdm_notebook\")\n",
    "\n",
    "demographic_df.head(5)"
   ]
  },
  {
   "cell_type": "code",
   "execution_count": 22,
   "metadata": {},
   "outputs": [],
   "source": [
    "cohort = demographic_df[demographic_df.ID.isin(ssri_switchers.person_id.unique().tolist() + only_used_ssris)]"
   ]
  },
  {
   "cell_type": "code",
   "execution_count": 23,
   "metadata": {},
   "outputs": [
    {
     "name": "stderr",
     "output_type": "stream",
     "text": [
      "/tmp/ipykernel_181/788634238.py:1: SettingWithCopyWarning: \n",
      "A value is trying to be set on a copy of a slice from a DataFrame.\n",
      "Try using .loc[row_indexer,col_indexer] = value instead\n",
      "\n",
      "See the caveats in the documentation: https://pandas.pydata.org/pandas-docs/stable/user_guide/indexing.html#returning-a-view-versus-a-copy\n",
      "  cohort['MDD'] = np.where(cohort.ID.isin(ssri_switchers.person_id.unique()), 1, 0)\n"
     ]
    }
   ],
   "source": [
    "cohort['MDD'] = np.where(cohort.ID.isin(ssri_switchers.person_id.unique()), 1, 0)"
   ]
  },
  {
   "cell_type": "code",
   "execution_count": 24,
   "metadata": {},
   "outputs": [
    {
     "name": "stderr",
     "output_type": "stream",
     "text": [
      "/tmp/ipykernel_181/1600989509.py:3: SettingWithCopyWarning: \n",
      "A value is trying to be set on a copy of a slice from a DataFrame.\n",
      "Try using .loc[row_indexer,col_indexer] = value instead\n",
      "\n",
      "See the caveats in the documentation: https://pandas.pydata.org/pandas-docs/stable/user_guide/indexing.html#returning-a-view-versus-a-copy\n",
      "  cohort['age'] = (now - pd.to_datetime(cohort['birth_date'])).dt.days/365.25\n"
     ]
    }
   ],
   "source": [
    "from datetime import datetime, timezone\n",
    "now = datetime.now(timezone.utc)\n",
    "cohort['age'] = (now - pd.to_datetime(cohort['birth_date'])).dt.days/365.25"
   ]
  },
  {
   "cell_type": "code",
   "execution_count": 25,
   "metadata": {},
   "outputs": [],
   "source": [
    "cohort = cohort[cohort['self_identified_sex'].isin(['Female', 'Male'])]"
   ]
  },
  {
   "cell_type": "code",
   "execution_count": 26,
   "metadata": {},
   "outputs": [],
   "source": [
    "# case_cohort = demographic_df\n",
    "# case_cohort['MDD'] = np.where(case_cohort.ID.isin(cases.person_id), 1, 0)\n",
    "# case_cohort['age'] = (now - pd.to_datetime(case_cohort['birth_date'])).dt.days/365.25\n",
    "# case_cohort = case_cohort[case_cohort['self_identified_sex'].isin(['Female', 'Male'])]"
   ]
  },
  {
   "cell_type": "code",
   "execution_count": 27,
   "metadata": {},
   "outputs": [],
   "source": [
    "orig_df = cohort[['ID','MDD','age', 'self_identified_sex']]\n",
    "orig_df.columns = ['ID','MDD','n_age', 'n_self_identified_sex']"
   ]
  },
  {
   "cell_type": "code",
   "execution_count": 28,
   "metadata": {},
   "outputs": [],
   "source": [
    "#ssri_switchers_cases = orig_df[orig_df.MDD == 1]\n",
    "ids = \",\".join([\"'\"+str(person)+\"'\" for person in orig_df.ID])\n",
    "query = (\"\"\"\n",
    "SELECT distinct * \n",
    "FROM \n",
    "    (SELECT DISTINCT person_id, condition_source_concept_id, condition_source_value, condition_start_date \n",
    "        FROM `\"\"\"+CDR_version+\"\"\".condition_occurrence`) AS cond \n",
    "     INNER JOIN \n",
    "        (SELECT DISTINCT concept_id, concept_name, concept_code, vocabulary_id \n",
    "            FROM `\"\"\"+CDR_version+\"\"\".concept` \n",
    "            where (vocabulary_id ='ICD9CM') or (vocabulary_id ='ICD10CM')) as concept \n",
    "            on concept.concept_id = cond.condition_source_concept_id\n",
    "            WHERE cast(cond.person_id as string) in (\"\"\"+ids+\"\"\")\n",
    "            \n",
    "\"\"\")\n",
    "all_icd_codes = pd.read_gbq(query, dialect=\"standard\")"
   ]
  },
  {
   "cell_type": "code",
   "execution_count": 29,
   "metadata": {},
   "outputs": [],
   "source": [
    "all_icd_codes = all_icd_codes[['person_id', 'concept_code', 'vocabulary_id']]\n",
    "all_icd_codes.columns = ['person_id', 'icd_codes', 'vocabulary_id']"
   ]
  },
  {
   "cell_type": "code",
   "execution_count": 30,
   "metadata": {},
   "outputs": [],
   "source": [
    "# os.system(f'gsutil -m cp gs://fc-secure-60a6c77d-e955-44c3-a038-2de1e1970ffd/phecode_map_icd9_10.csv ' + 'phecode_map_icd9_10.csv')\n",
    "# os.system(f'gsutil -m cp gs://fc-secure-60a6c77d-e955-44c3-a038-2de1e1970ffd/pheinfo.csv ' + 'pheinfo.csv')\n",
    "def get_phecodes(df):\n",
    "    #Load in Files\n",
    "    ICD9_IC10_Phecodes=pd.read_csv(\"phecode_map_icd9_10.csv\") \n",
    "    ICD9_IC10_Phecodes = ICD9_IC10_Phecodes.iloc[:, 1:] # strip off extra column\n",
    "    phecode_info=pd.read_csv(\"pheinfo.csv\")\n",
    "    \n",
    "    ######### map ICD9 and ICD10 to phecodes #########\n",
    "    icd9_phecode_dict=ICD9_IC10_Phecodes[ICD9_IC10_Phecodes['vocabulary_id']=='ICD9CM']\n",
    "    icd9_phecode = df.icd_codes.map(dict(zip(icd9_phecode_dict.code,\n",
    "                                                                 icd9_phecode_dict.phecode)))\n",
    "    df['ICD9_PHECODE'] = icd9_phecode.astype(float)\n",
    "\n",
    "    icd10_phecode_dict = ICD9_IC10_Phecodes[ICD9_IC10_Phecodes['vocabulary_id']=='ICD10CM'].reset_index(drop=True)\n",
    "    icd10_phecode = df.icd_codes.map(dict(zip(icd10_phecode_dict.code,\n",
    "                                                                 icd10_phecode_dict.phecode)))\n",
    "    df['ICD10_PHECODE'] = icd10_phecode.astype(float)\n",
    "    \n",
    "    ########## drop rows with NA for both IC9_PHECODE and ICD10_PHECODE #########\n",
    "    df = df.loc[df['ICD9_PHECODE'].notnull() | df['ICD10_PHECODE'].notnull()]\n",
    "\n",
    "    # select rows into new dfs, based on ICD9- and ICD10-derived phecodes, and append appropriate phecode into 'PHECODE' column\n",
    "\n",
    "    # for entries with no ICD9-derived phecode, choose 'ICD10_PHECODE' [CONDITION 1]\n",
    "    null9_df = df.loc[df['ICD9_PHECODE'].isnull()]\n",
    "    null9_df['PHECODE'] = null9_df['ICD10_PHECODE']\n",
    "\n",
    "    # for entries with no ICD10-derived phecode, choose 'ICD9_PHECODE' [CONDITION 2]\n",
    "    null10_df = df.loc[df['ICD10_PHECODE'].isnull()]\n",
    "    null10_df['PHECODE'] = null10_df['ICD9_PHECODE']\n",
    "    \n",
    "    ########### entries with both ICD9- and ICD10-derived phecodes (will get further subdivided) ##########\n",
    "    icd_df_both_phecodes = df.loc[df['ICD9_PHECODE'].notnull() & df['ICD10_PHECODE'].notnull()]\n",
    "\n",
    "    # for entries with ICD9- and ICD10-derived phecodes that match, choose 'ICD9_PHECODE' [CONDITION 3]\n",
    "    icd_df_matched_phecodes = icd_df_both_phecodes[icd_df_both_phecodes['ICD9_PHECODE'] == icd_df_both_phecodes['ICD10_PHECODE']]\n",
    "    icd_df_matched_phecodes['PHECODE'] = icd_df_matched_phecodes['ICD9_PHECODE']\n",
    "\n",
    "    # for entries with ICD9- and ICD10-derived phecodes that don't match, duplicate entry and choose one phecode each [CONDITION 4, a and b]\n",
    "    icd_df_mismatched_phecodes = icd_df_both_phecodes[icd_df_both_phecodes['ICD9_PHECODE'] != icd_df_both_phecodes['ICD10_PHECODE']]\n",
    "    icd_df_mismatch2 = icd_df_mismatched_phecodes.copy()\n",
    "    icd_df_mismatched_phecodes['PHECODE'] = icd_df_mismatched_phecodes['ICD9_PHECODE']\n",
    "    icd_df_mismatch2['PHECODE'] = icd_df_mismatch2['ICD10_PHECODE']\n",
    "\n",
    "    # combine dfs with phecodes from all 4 conditions\n",
    "    frames = [null9_df, null10_df, icd_df_matched_phecodes, icd_df_mismatched_phecodes, icd_df_mismatch2]\n",
    "    icd_df = pd.concat(frames)\n",
    "    \n",
    "    #map to the descriptors\n",
    "    final_phecode_file = pd.merge(icd_df, phecode_info, left_on = 'PHECODE', right_on = 'phecode', how = 'left')\n",
    "    return final_phecode_file"
   ]
  },
  {
   "cell_type": "code",
   "execution_count": 31,
   "metadata": {},
   "outputs": [
    {
     "name": "stderr",
     "output_type": "stream",
     "text": [
      "/tmp/ipykernel_181/2127813669.py:27: SettingWithCopyWarning: \n",
      "A value is trying to be set on a copy of a slice from a DataFrame.\n",
      "Try using .loc[row_indexer,col_indexer] = value instead\n",
      "\n",
      "See the caveats in the documentation: https://pandas.pydata.org/pandas-docs/stable/user_guide/indexing.html#returning-a-view-versus-a-copy\n",
      "  null9_df['PHECODE'] = null9_df['ICD10_PHECODE']\n",
      "/tmp/ipykernel_181/2127813669.py:31: SettingWithCopyWarning: \n",
      "A value is trying to be set on a copy of a slice from a DataFrame.\n",
      "Try using .loc[row_indexer,col_indexer] = value instead\n",
      "\n",
      "See the caveats in the documentation: https://pandas.pydata.org/pandas-docs/stable/user_guide/indexing.html#returning-a-view-versus-a-copy\n",
      "  null10_df['PHECODE'] = null10_df['ICD9_PHECODE']\n"
     ]
    }
   ],
   "source": [
    "all_phecodes = get_phecodes(all_icd_codes)"
   ]
  },
  {
   "cell_type": "code",
   "execution_count": 32,
   "metadata": {},
   "outputs": [],
   "source": [
    "case_indiv = orig_df[orig_df['MDD'] == 1]\n",
    "control_indiv = orig_df[orig_df['MDD'] == 0]\n",
    "\n",
    "phecodes_cases = all_phecodes[all_phecodes['person_id'].isin(case_indiv.ID)]\n",
    "phecodes_controls = all_phecodes[all_phecodes['person_id'].isin(control_indiv.ID)]"
   ]
  },
  {
   "cell_type": "code",
   "execution_count": 33,
   "metadata": {},
   "outputs": [
    {
     "name": "stdout",
     "output_type": "stream",
     "text": [
      "Number of phecodes in cases 1454\n"
     ]
    }
   ],
   "source": [
    "phecodes_cases = phecodes_cases[['person_id', 'phecode']]\n",
    "phecodes_cases.columns = ['ID', 'phecode']\n",
    "print(\"Number of phecodes in cases\", len(phecodes_cases.phecode.unique()))\n",
    "\n",
    "dummies = pd.get_dummies(phecodes_cases['phecode'])\n",
    "encoded = pd.concat([phecodes_cases['ID'], dummies], axis=1)\n",
    "phecode_cases_final = encoded.groupby('ID').sum().astype(int)\n",
    "phecode_cases_final = phecode_cases_final.reset_index()\n",
    "phecode_cases_final = phecode_cases_final.apply(pd.to_numeric)"
   ]
  },
  {
   "cell_type": "code",
   "execution_count": 34,
   "metadata": {},
   "outputs": [
    {
     "name": "stdout",
     "output_type": "stream",
     "text": [
      "Number of phecodes in controls: 1678\n"
     ]
    }
   ],
   "source": [
    "phecodes_controls = phecodes_controls[['person_id', 'phecode']]\n",
    "phecodes_controls.columns = ['ID', 'phecode']\n",
    "\n",
    "# Convert 'phecode' to a categorical type to save memory\n",
    "phecodes_controls['phecode'] = phecodes_controls['phecode'].astype('category')\n",
    "\n",
    "# Create dummies in a memory-efficient way using SparseDataFrame to save memory\n",
    "dummies = pd.get_dummies(phecodes_controls['phecode'], sparse=True)\n",
    "\n",
    "# Merge 'ID' with the dummies dataframe\n",
    "encoded = pd.concat([phecodes_controls['ID'], dummies], axis=1)\n",
    "\n",
    "# Group by 'ID' and sum the dummy variables, then reset the index\n",
    "phecode_controls_final = encoded.groupby('ID').sum()\n",
    "\n",
    "# Convert the dataframe back to integers\n",
    "phecode_controls_final = phecode_controls_final.astype(int)\n",
    "\n",
    "# Optional: Convert the entire dataframe to numeric types, in case there are other columns with mixed types\n",
    "phecode_controls_final = phecode_controls_final.apply(pd.to_numeric)\n",
    "\n",
    "# If you want to reset the index after grouping\n",
    "phecode_controls_final = phecode_controls_final.reset_index()\n",
    "\n",
    "print(\"Number of phecodes in controls:\", len(phecodes_controls['phecode'].unique()))"
   ]
  },
  {
   "cell_type": "code",
   "execution_count": 36,
   "metadata": {},
   "outputs": [],
   "source": [
    "# phecodes_controls = phecodes_controls[['person_id', 'phecode']]\n",
    "# phecodes_controls.columns = ['ID', 'phecode']\n",
    "# print(\"Number of phecodes in controls\", len(phecodes_controls.phecode.unique()))\n",
    "\n",
    "# dummies = pd.get_dummies(phecodes_controls['phecode'])\n",
    "# encoded = pd.concat([phecodes_controls['ID'], dummies], axis=1)\n",
    "# phecode_controls_final = encoded.groupby('ID').sum().astype(int)\n",
    "# phecode_controls_final = phecode_controls_final.reset_index()\n",
    "# phecode_controls_final = phecode_controls_final.apply(pd.to_numeric)"
   ]
  },
  {
   "cell_type": "code",
   "execution_count": 37,
   "metadata": {},
   "outputs": [],
   "source": [
    "missing_cols = [col for col in phecode_controls_final.columns if col not in phecode_cases_final.columns]\n",
    "\n",
    "# Add the missing columns to the cases dataframe with all zeros\n",
    "for col in missing_cols:\n",
    "    phecode_cases_final[col] = 0\n",
    "\n",
    "# Now both cases_df and controls_df have the same columns\n",
    "# Concatenate the two dataframes (you can concatenate along rows, i.e., axis=0)\n",
    "phecode_final = pd.concat([phecode_cases_final, phecode_controls_final], axis=0, ignore_index=True)\n",
    "\n",
    "# Now combined_df has all the categories for both cases and controls\n",
    "#print(phecode_final.head())"
   ]
  },
  {
   "cell_type": "code",
   "execution_count": 38,
   "metadata": {},
   "outputs": [],
   "source": [
    "# all_phecodes = all_phecodes[['person_id', 'phecode']]\n",
    "# all_phecodes.columns = ['ID', 'phecode']\n",
    "# print(\"Number of phecodes\", len(all_phecodes.phecode.unique()))\n",
    "\n",
    "# dummies = pd.get_dummies(all_phecodes['phecode'])\n",
    "# encoded = pd.concat([all_phecodes['ID'], dummies], axis=1)\n",
    "# phecode_final = encoded.groupby('ID').sum().astype(int)\n",
    "# phecode_final = phecode_final.reset_index()\n",
    "# phecode_final = phecode_final.apply(pd.to_numeric)"
   ]
  },
  {
   "cell_type": "code",
   "execution_count": 39,
   "metadata": {},
   "outputs": [],
   "source": [
    "orig_df = pd.merge(orig_df, phecode_final, on = 'ID')"
   ]
  },
  {
   "cell_type": "code",
   "execution_count": 40,
   "metadata": {},
   "outputs": [
    {
     "name": "stdout",
     "output_type": "stream",
     "text": [
      "Shape of patient features matrix: (2919, 1691)\n"
     ]
    }
   ],
   "source": [
    "print(\"Shape of patient features matrix: (%d, %d)\" % (orig_df.shape[0], orig_df.shape[1]))"
   ]
  },
  {
   "cell_type": "code",
   "execution_count": 41,
   "metadata": {},
   "outputs": [
    {
     "name": "stdout",
     "output_type": "stream",
     "text": [
      "Non-phecode features in feature matrix: \n",
      "['n_age', 'n_self_identified_sex']\n"
     ]
    }
   ],
   "source": [
    "cat_features = [str(col) for col in orig_df.columns if str(col).startswith('n_')]\n",
    "print(\"Non-phecode features in feature matrix: \")\n",
    "print(cat_features)\n",
    "\n",
    "target_label = 'MDD'\n",
    "patient_label = 'ID'\n",
    "\n",
    "non_phecode_features = cat_features + [target_label, patient_label]\n",
    "non_phecode_df = orig_df[non_phecode_features]\n",
    "orig_df.drop(non_phecode_features, axis=1, inplace=True)\n",
    "orig_df.columns = orig_df.columns.astype(float)\n",
    "orig_df = pd.concat([orig_df, non_phecode_df], axis=1)"
   ]
  },
  {
   "cell_type": "code",
   "execution_count": 42,
   "metadata": {},
   "outputs": [],
   "source": [
    "# read in bridge files \n",
    "\n",
    "phecode_icd9_df = pd.read_csv(\"./phecode_icd9_rolled.csv\", sep=',')\n",
    "phecode_icd10_df = pd.read_csv(\"./icd10_phecode_bridge.csv\", sep=',')\n",
    "hpo_phecode_df = pd.read_csv(\"./HPO_phecode_bridge.csv\", sep=',')\n",
    "omim_hpo_df = pd.read_csv(\"./omim_hpo_bridge.csv\", sep=',')"
   ]
  },
  {
   "cell_type": "code",
   "execution_count": 43,
   "metadata": {},
   "outputs": [],
   "source": [
    "def clean_phecode_files(phecode_icd9_df, phecode_icd10_df):\n",
    "    phecode_icd10_df.columns = ['ICD10', 'PheCode']\n",
    "    phecode_df = phecode_icd10_df.merge(phecode_icd9_df, on='PheCode', how='right')\n",
    "    phecode_df = phecode_df[['ICD10', 'ICD9','PheCode', 'Phenotype', 'Excl. Phecodes']]\n",
    "    phecode_df.columns = ['ICD10', 'ICD9','Phecode', 'Phenotype', 'Excl. Phecodes']\n",
    "    phecode_icd_10_df = phecode_df.drop('ICD9', axis=1).drop_duplicates()\n",
    "    phecode_icd_10_df.columns = ['ICD','Phecode', 'Phenotype', 'Excl. Phecodes']\n",
    "    phecode_icd_9_df = phecode_df.drop('ICD10', axis=1).drop_duplicates()\n",
    "    phecode_icd_9_df.columns = ['ICD','Phecode', 'Phenotype', 'Excl. Phecodes']\n",
    "    phecode_df = pd.concat([phecode_icd_9_df, phecode_icd_10_df]).sort_values(by='Phecode')\n",
    "    return phecode_df\n",
    "\n",
    "phecode_df = clean_phecode_files(phecode_icd9_df, phecode_icd10_df)"
   ]
  },
  {
   "cell_type": "code",
   "execution_count": 44,
   "metadata": {},
   "outputs": [],
   "source": [
    "hpo_phecode_df = hpo_phecode_df[hpo_phecode_df[\"phecode\"].notnull()]\n",
    "omim_hpo_df.columns = [\"DB\", \"DB_Object_ID\",\"DB_Name\", \"Qualifer\", \"HPO_ID\", \"DB_Reference\", \n",
    "                       \"Evidence\", \"Onset\", \"Frequency\", \"Sex\", \"Modifier\", \"Aspect\", \"Date_Created\", \n",
    "                       \"Assigned_By\"]"
   ]
  },
  {
   "cell_type": "code",
   "execution_count": 45,
   "metadata": {},
   "outputs": [
    {
     "data": {
      "text/html": [
       "<div>\n",
       "<style scoped>\n",
       "    .dataframe tbody tr th:only-of-type {\n",
       "        vertical-align: middle;\n",
       "    }\n",
       "\n",
       "    .dataframe tbody tr th {\n",
       "        vertical-align: top;\n",
       "    }\n",
       "\n",
       "    .dataframe thead th {\n",
       "        text-align: right;\n",
       "    }\n",
       "</style>\n",
       "<table border=\"1\" class=\"dataframe\">\n",
       "  <thead>\n",
       "    <tr style=\"text-align: right;\">\n",
       "      <th></th>\n",
       "      <th>HPO_term_id</th>\n",
       "      <th>HPO_term_name</th>\n",
       "      <th>phecode</th>\n",
       "      <th>phecode_string</th>\n",
       "      <th>class</th>\n",
       "      <th>Unnamed: 5</th>\n",
       "      <th>Unnamed: 6</th>\n",
       "    </tr>\n",
       "  </thead>\n",
       "  <tbody>\n",
       "    <tr>\n",
       "      <th>0</th>\n",
       "      <td>3</td>\n",
       "      <td>Multicystic kidney dysplasia</td>\n",
       "      <td>586.20</td>\n",
       "      <td>Cyst of kidney, acquired</td>\n",
       "      <td>NaN</td>\n",
       "      <td>NaN</td>\n",
       "      <td>NaN</td>\n",
       "    </tr>\n",
       "    <tr>\n",
       "      <th>2</th>\n",
       "      <td>10</td>\n",
       "      <td>Recurrent urinary tract infections</td>\n",
       "      <td>591.00</td>\n",
       "      <td>Urinary tract infection</td>\n",
       "      <td>NaN</td>\n",
       "      <td>NaN</td>\n",
       "      <td>NaN</td>\n",
       "    </tr>\n",
       "    <tr>\n",
       "      <th>3</th>\n",
       "      <td>11</td>\n",
       "      <td>Neurogenic bladder</td>\n",
       "      <td>596.50</td>\n",
       "      <td>Functional disorders of bladder</td>\n",
       "      <td>NaN</td>\n",
       "      <td>NaN</td>\n",
       "      <td>NaN</td>\n",
       "    </tr>\n",
       "    <tr>\n",
       "      <th>4</th>\n",
       "      <td>12</td>\n",
       "      <td>Urinary urgency</td>\n",
       "      <td>599.90</td>\n",
       "      <td>Other abnormality of urination</td>\n",
       "      <td>NaN</td>\n",
       "      <td>NaN</td>\n",
       "      <td>NaN</td>\n",
       "    </tr>\n",
       "    <tr>\n",
       "      <th>5</th>\n",
       "      <td>13</td>\n",
       "      <td>Hypoplasia of the uterus</td>\n",
       "      <td>751.11</td>\n",
       "      <td>Congenital anomalies of female genital organs</td>\n",
       "      <td>Congenital</td>\n",
       "      <td>NaN</td>\n",
       "      <td>NaN</td>\n",
       "    </tr>\n",
       "    <tr>\n",
       "      <th>...</th>\n",
       "      <td>...</td>\n",
       "      <td>...</td>\n",
       "      <td>...</td>\n",
       "      <td>...</td>\n",
       "      <td>...</td>\n",
       "      <td>...</td>\n",
       "      <td>...</td>\n",
       "    </tr>\n",
       "    <tr>\n",
       "      <th>5748</th>\n",
       "      <td>200133</td>\n",
       "      <td>Lumbosacral meningocele</td>\n",
       "      <td>752.11</td>\n",
       "      <td>Spina bifida</td>\n",
       "      <td>Congenital</td>\n",
       "      <td>NaN</td>\n",
       "      <td>NaN</td>\n",
       "    </tr>\n",
       "    <tr>\n",
       "      <th>5749</th>\n",
       "      <td>200134</td>\n",
       "      <td>Epileptic encephalopathy</td>\n",
       "      <td>345.11</td>\n",
       "      <td>Generalized convulsive epilepsy</td>\n",
       "      <td>NaN</td>\n",
       "      <td>NaN</td>\n",
       "      <td>NaN</td>\n",
       "    </tr>\n",
       "    <tr>\n",
       "      <th>5750</th>\n",
       "      <td>200138</td>\n",
       "      <td>Bilateral choanal atresia/stenosis</td>\n",
       "      <td>749.00</td>\n",
       "      <td>Congenital anomalies of face and neck</td>\n",
       "      <td>Congenital</td>\n",
       "      <td>NaN</td>\n",
       "      <td>NaN</td>\n",
       "    </tr>\n",
       "    <tr>\n",
       "      <th>5751</th>\n",
       "      <td>200141</td>\n",
       "      <td>Small, conical teeth</td>\n",
       "      <td>520.20</td>\n",
       "      <td>Disturbances in tooth eruption</td>\n",
       "      <td>NaN</td>\n",
       "      <td>NaN</td>\n",
       "      <td>NaN</td>\n",
       "    </tr>\n",
       "    <tr>\n",
       "      <th>5758</th>\n",
       "      <td>200151</td>\n",
       "      <td>Cutaneous mastocytosis</td>\n",
       "      <td>202.00</td>\n",
       "      <td>Cancer of other lymphoid, histiocytic tissue</td>\n",
       "      <td>NaN</td>\n",
       "      <td>NaN</td>\n",
       "      <td>NaN</td>\n",
       "    </tr>\n",
       "  </tbody>\n",
       "</table>\n",
       "<p>3403 rows × 7 columns</p>\n",
       "</div>"
      ],
      "text/plain": [
       "      HPO_term_id                       HPO_term_name  phecode  \\\n",
       "0               3        Multicystic kidney dysplasia   586.20   \n",
       "2              10  Recurrent urinary tract infections   591.00   \n",
       "3              11                  Neurogenic bladder   596.50   \n",
       "4              12                     Urinary urgency   599.90   \n",
       "5              13            Hypoplasia of the uterus   751.11   \n",
       "...           ...                                 ...      ...   \n",
       "5748       200133             Lumbosacral meningocele   752.11   \n",
       "5749       200134            Epileptic encephalopathy   345.11   \n",
       "5750       200138  Bilateral choanal atresia/stenosis   749.00   \n",
       "5751       200141                Small, conical teeth   520.20   \n",
       "5758       200151              Cutaneous mastocytosis   202.00   \n",
       "\n",
       "                                     phecode_string       class  Unnamed: 5  \\\n",
       "0                          Cyst of kidney, acquired         NaN         NaN   \n",
       "2                           Urinary tract infection         NaN         NaN   \n",
       "3                   Functional disorders of bladder         NaN         NaN   \n",
       "4                    Other abnormality of urination         NaN         NaN   \n",
       "5     Congenital anomalies of female genital organs  Congenital         NaN   \n",
       "...                                             ...         ...         ...   \n",
       "5748                                   Spina bifida  Congenital         NaN   \n",
       "5749                Generalized convulsive epilepsy         NaN         NaN   \n",
       "5750          Congenital anomalies of face and neck  Congenital         NaN   \n",
       "5751                 Disturbances in tooth eruption         NaN         NaN   \n",
       "5758   Cancer of other lymphoid, histiocytic tissue         NaN         NaN   \n",
       "\n",
       "      Unnamed: 6  \n",
       "0            NaN  \n",
       "2            NaN  \n",
       "3            NaN  \n",
       "4            NaN  \n",
       "5            NaN  \n",
       "...          ...  \n",
       "5748         NaN  \n",
       "5749         NaN  \n",
       "5750         NaN  \n",
       "5751         NaN  \n",
       "5758         NaN  \n",
       "\n",
       "[3403 rows x 7 columns]"
      ]
     },
     "execution_count": 45,
     "metadata": {},
     "output_type": "execute_result"
    }
   ],
   "source": [
    "hpo_phecode_df"
   ]
  },
  {
   "cell_type": "code",
   "execution_count": 46,
   "metadata": {},
   "outputs": [],
   "source": [
    "def hpo_to_phecode_list(hpo_id_list, hpo_phecode_df):\n",
    "    phecodes = []\n",
    "    for hpo_id in hpo_id_list:\n",
    "        phecode = hpo_phecode_df.loc[hpo_phecode_df[\"HPO_term_id\"] == hpo_id]['phecode'].values\n",
    "    \n",
    "        if len(phecode) == 0 :\n",
    "            phecode = [np.nan]\n",
    "\n",
    "        elif len(phecode) > 1:\n",
    "            print(\"WARNING: hpo id mapping to more than one phecode...taking only first phecode in database\")\n",
    "\n",
    "        phecode = phecode[0]\n",
    "        phecodes.append(phecode)\n",
    "        \n",
    "    phecodes = [x for x in phecodes if ~np.isnan(x)]\n",
    "\n",
    "    return phecodes \n",
    "\n",
    "def get_disease_phecodes(disease, omim_hpo_df, hpo_phecode_df):\n",
    "    hpo_ids = retrieve_hpo_ids(disease, omim_hpo_df, DB=\"OMIM\")\n",
    "    #print(\"HPO ids:\")\n",
    "    #print(hpo_ids)\n",
    "    disease_phecodes = hpo_to_phecode_list(hpo_ids, hpo_phecode_df)\n",
    "\n",
    "    return disease_phecodes, hpo_ids\n",
    "\n",
    "def retrieve_hpo_ids(disease, omim_hpo_df, DB=\"OMIM\"):\n",
    "    # omim database disease field in all caps \n",
    "    #disease = disease.upper()\n",
    "    print(\"Disease name being read: %s\" % disease)\n",
    "    hpo_id_list = omim_hpo_df.loc[(omim_hpo_df['DB'] == DB) & (omim_hpo_df['DB_Object_ID']==disease)]['HPO_ID'].values\n",
    "    \n",
    "    # remove \"HP:\" prefix\n",
    "    hpo_id_list = [int(x.split(':')[1]) for x in hpo_id_list]\n",
    "    \n",
    "    return hpo_id_list"
   ]
  },
  {
   "cell_type": "code",
   "execution_count": 47,
   "metadata": {},
   "outputs": [],
   "source": [
    "def get_omim_phecodes(omim_disease_list, hpo_add, hpo_remove, hpo_phecode_df, omim_hpo_df):\n",
    "        omim_phecodes = []\n",
    "\n",
    "        # get phecodes to add from hpo terms\n",
    "        if len(hpo_add) > 1:\n",
    "            print(\"Adding phecodes from %d hpo terms\" % len(hpo_add))\n",
    "            phecode_add_hpo = hpo_to_phecode_list(hpo_add, hpo_phecode_df)\n",
    "            phecode_add = set(phecode_add + phecode_add_hpo)\n",
    "\n",
    "        # get phecodes to remove from hpo terms \n",
    "        if len(hpo_remove) > 1:\n",
    "            print(\"Removing phecodes from %d hpo terms\" % len(hpo_remove))\n",
    "            phecode_remove_hpo = hpo_to_phecode_list(hpo_remove, hpo_phecode_df)\n",
    "            phecode_remove = set(phecode_remove + phecode_remove_hpo)\n",
    "            \n",
    "        # get main set of phecodes from omim defn \n",
    "        for disease_omim in omim_disease_list:\n",
    "            omim_phecodes_i, hpo_ids_i = get_disease_phecodes(disease_omim, omim_hpo_df, hpo_phecode_df)\n",
    "            omim_phecodes.extend(omim_phecodes_i)\n",
    "        \n",
    "        print(\"Originally selecting %d phecodes based on OMIM defn\" % len(np.unique(omim_phecodes)))\n",
    "\n",
    "        # remove any duplicate phecodes\n",
    "        omim_phecodes = np.unique(omim_phecodes)\n",
    "            \n",
    "        n_omim_phecodes = len(omim_phecodes)\n",
    "\n",
    "        print(\"Number of OMIM and filtered phecodes: %d\" % n_omim_phecodes)\n",
    "        \n",
    "        return omim_phecodes"
   ]
  },
  {
   "cell_type": "code",
   "execution_count": 48,
   "metadata": {},
   "outputs": [
    {
     "name": "stdout",
     "output_type": "stream",
     "text": [
      "Disease name being read: 608516\n",
      "Disease name being read: 608691\n",
      "Disease name being read: 608520\n",
      "Disease name being read: 125480\n",
      "Disease name being read: 309200\n",
      "Disease name being read: 611247\n",
      "Disease name being read: 611536\n",
      "Disease name being read: 609633\n",
      "Disease name being read: 612357\n",
      "Disease name being read: 612372\n",
      "Disease name being read: 611535\n",
      "Disease name being read: 612371\n",
      "Originally selecting 2 phecodes based on OMIM defn\n",
      "Number of OMIM and filtered phecodes: 2\n"
     ]
    }
   ],
   "source": [
    "omim_disease_list = [608516, 608691, 608520, 125480, 309200, 611247, 611536, 609633, 612357, 612372,\n",
    "                    611535, 612371]\n",
    "hpo_add = []\n",
    "hpo_remove = []\n",
    "omim_phecodes = get_omim_phecodes(omim_disease_list, hpo_add, hpo_remove, hpo_phecode_df, omim_hpo_df)"
   ]
  },
  {
   "cell_type": "code",
   "execution_count": 49,
   "metadata": {},
   "outputs": [
    {
     "data": {
      "text/plain": [
       "array([296.1, 296.2])"
      ]
     },
     "execution_count": 49,
     "metadata": {},
     "output_type": "execute_result"
    }
   ],
   "source": [
    "omim_phecodes"
   ]
  },
  {
   "cell_type": "code",
   "execution_count": 50,
   "metadata": {},
   "outputs": [
    {
     "name": "stdout",
     "output_type": "stream",
     "text": [
      "Number of patients in training set: 2919\n",
      "Number of patients in test set: 2919\n"
     ]
    }
   ],
   "source": [
    "#split data into training and testing set \n",
    "from sklearn.model_selection import train_test_split\n",
    "train_df = orig_df.copy()\n",
    "test_df = orig_df.copy()\n",
    "print(\"Number of patients in training set: %d\" % train_df.shape[0])\n",
    "print(\"Number of patients in test set: %d\" % test_df.shape[0])"
   ]
  },
  {
   "cell_type": "code",
   "execution_count": 51,
   "metadata": {},
   "outputs": [],
   "source": [
    "def freq_pvalue(p1, p2, n1, n2):\n",
    "    \n",
    "    p = (p1 * n1 + p2 * n2)/ float(n1 + n2)\n",
    "    se = np.sqrt(p*(1-p) * (1/float(n1) + (1/float(n2))))\n",
    "    z = (p1-p2)/float(se)\n",
    "    pvalue=2*norm.cdf(-1*abs(z))\n",
    "    \n",
    "    return pvalue "
   ]
  },
  {
   "cell_type": "code",
   "execution_count": 52,
   "metadata": {},
   "outputs": [],
   "source": [
    "from scipy.stats import norm"
   ]
  },
  {
   "cell_type": "code",
   "execution_count": 53,
   "metadata": {},
   "outputs": [],
   "source": [
    "def sign_phecodes(train_df, non_phecode_features, omim_phecodes, target_label, target_phecode):  \n",
    "    phecode_train_df = train_df.drop(non_phecode_features, axis=1)\n",
    "    phecode_sums=phecode_train_df.sum(axis=0).values\n",
    "    n_pats = len(train_df.index) # total number of patients \n",
    "    all_phecode_freqs=np.divide(phecode_sums, n_pats)\n",
    "\n",
    "    mdd_phecode_df = train_df.loc[train_df['MDD']==1].drop(non_phecode_features, axis=1)\n",
    "    mdd_phecode_sums=mdd_phecode_df.sum(axis=0).values\n",
    "    n_mdd_pats = len(mdd_phecode_df)\n",
    "    mdd_phecode_freqs=np.divide(mdd_phecode_sums, n_mdd_pats)\n",
    "    print(\"Number of cases in training set: %d\" % n_mdd_pats)\n",
    "    \n",
    "    training_phecodes = phecode_train_df.columns.astype(float)\n",
    "    freq_df = pd.DataFrame({'Phecode': training_phecodes, 'p1': mdd_phecode_freqs, 'p2': all_phecode_freqs})\n",
    "\n",
    "    n1 = n_mdd_pats\n",
    "    n2 = n_pats # general population\n",
    "\n",
    "    pvalue_list = []\n",
    "\n",
    "    for p in training_phecodes:\n",
    "        p1 = freq_df.loc[freq_df['Phecode'] == p, 'p1'].values[0]\n",
    "        p2 = freq_df.loc[freq_df['Phecode'] == p, 'p2'].values[0]\n",
    "        pvalue = freq_pvalue(p1, p2, n1, n2)\n",
    "        pvalue_list.append(pvalue)\n",
    "\n",
    "    freq_df['pvalue'] = pvalue_list\n",
    "    freq_df.sort_values(by='pvalue', inplace=True)\n",
    "\n",
    "    # make sure phecodes are floats \n",
    "    freq_df['Phecode'] = freq_df[\"Phecode\"].astype(float)\n",
    "\n",
    "    # remove CVID phecode\n",
    "    print(\"Removing disease target phecode from list.\")\n",
    "    freq_df = freq_df.loc[freq_df['Phecode'] != target_phecode]\n",
    "\n",
    "    # compute log10 weights from general population\n",
    "    inv_freq = np.divide(1, freq_df['p2'].values)\n",
    "    freq_df['weight'] = np.log10(inv_freq)\n",
    "\n",
    "    # replace inf weight with 0\n",
    "    print(\"Replacing inf frequencies with 0.\")\n",
    "    freq_df['weight']=freq_df['weight'].replace([np.inf], 0)\n",
    "    freq_df['weight']=freq_df['weight'].replace([-1*np.inf], 0)\n",
    "    freq_df['weight'].fillna(0, inplace=True)\n",
    "\n",
    "    # drop NAs\n",
    "    print(\"Fill NA weights.\")\n",
    "    top_df = freq_df.fillna(0)\n",
    "\n",
    "    # save freq for later \n",
    "    print(\"Phecode freq df from all phecodes.\")\n",
    "    all_top_df = top_df.copy()\n",
    "\n",
    "    # dataframe for omim and no-omim\n",
    "    omim_top_df = all_top_df.copy()\n",
    "\n",
    "    # drop phecodes with < 2 MDD pats \n",
    "    print(\"Droping phecodes with <2 target patients.\")\n",
    "    mdd_thresh = 2/float(n_mdd_pats)\n",
    "    omim_top_df = omim_top_df.loc[(omim_top_df['p1'] >= mdd_thresh) | (omim_top_df['Phecode'].isin(omim_phecodes))]\n",
    "    all_top_df = all_top_df.loc[all_top_df['p1'] >= mdd_thresh]\n",
    "\n",
    "    # omim df \n",
    "    n_phecodes = len(omim_top_df.index)\n",
    "    thresh = 0.05\n",
    "    bon_thresh = thresh/n_phecodes\n",
    "    omim_top_df = omim_top_df.loc[(omim_top_df['pvalue'] <= bon_thresh) | (omim_top_df['Phecode'].isin(omim_phecodes))]\n",
    "    n_sign_phecodes = len(omim_top_df.index)\n",
    "    print(\"Number of significant phecodes after corrections (including OMIM phecodes): %d\" % n_sign_phecodes)\n",
    "\n",
    "    # no-omim df \n",
    "    n_phecodes = len(all_top_df.index)\n",
    "    thresh = 0.05\n",
    "    bon_thresh = thresh/n_phecodes\n",
    "    all_top_df = all_top_df.loc[all_top_df['pvalue'] <= bon_thresh]\n",
    "    print(\"Restricting to significant phecodes with pvalue <= %.4g (mult testing thresh based on %d phecodes)\" % (bon_thresh, n_phecodes))\n",
    "\n",
    "    # only sign phecodes (regardless of OMIM)\n",
    "    sign_top_df = all_top_df\n",
    "    n_sign_phecodes = len(sign_top_df.index)\n",
    "    print(\"Number of significant phecodes after corrections (regardless of OMIM): %d\" % n_sign_phecodes)\n",
    "\n",
    "    # make sign phecodes with omim phecodes and sign phecodes\n",
    "    sign_omim_top_df = omim_top_df.loc[~omim_top_df['Phecode'].isin(omim_phecodes)]\n",
    "    n_sign_phecodes = len(sign_omim_top_df.index)\n",
    "\n",
    "    print(\"Number of significant phecodes after corrections (not including OMIM phecodes): %d\" % n_sign_phecodes)\n",
    "\n",
    "    return sign_top_df, sign_omim_top_df, all_top_df, freq_df"
   ]
  },
  {
   "cell_type": "code",
   "execution_count": 54,
   "metadata": {},
   "outputs": [
    {
     "name": "stdout",
     "output_type": "stream",
     "text": [
      "Number of cases in training set: 349\n"
     ]
    },
    {
     "name": "stderr",
     "output_type": "stream",
     "text": [
      "/tmp/ipykernel_181/2312772194.py:4: RuntimeWarning: invalid value encountered in sqrt\n",
      "  se = np.sqrt(p*(1-p) * (1/float(n1) + (1/float(n2))))\n"
     ]
    },
    {
     "name": "stdout",
     "output_type": "stream",
     "text": [
      "Removing disease target phecode from list.\n",
      "Replacing inf frequencies with 0.\n",
      "Fill NA weights.\n",
      "Phecode freq df from all phecodes.\n",
      "Droping phecodes with <2 target patients.\n",
      "Number of significant phecodes after corrections (including OMIM phecodes): 773\n",
      "Restricting to significant phecodes with pvalue <= 3.731e-05 (mult testing thresh based on 1340 phecodes)\n",
      "Number of significant phecodes after corrections (regardless of OMIM): 773\n",
      "Number of significant phecodes after corrections (not including OMIM phecodes): 771\n"
     ]
    }
   ],
   "source": [
    "target_phecode = 296.22 # MDD\n",
    "target_label = 'MDD'\n",
    "no_omim_phecode_df, omim_phecode_df, all_top_df, freq_df = sign_phecodes(train_df,\n",
    "                                                                         non_phecode_features,\n",
    "                                                                         omim_phecodes,\n",
    "                                                                         target_label, target_phecode)"
   ]
  },
  {
   "cell_type": "code",
   "execution_count": 55,
   "metadata": {},
   "outputs": [],
   "source": [
    "top_phenotype_df = all_top_df.merge(phecode_df[[\"Phecode\", \"Phenotype\"]], on='Phecode')\n",
    "top_phenotype_df.drop_duplicates(inplace=True)"
   ]
  },
  {
   "cell_type": "code",
   "execution_count": 56,
   "metadata": {},
   "outputs": [],
   "source": [
    "top_phecode_df = omim_phecode_df\n",
    "target_phecodes = list(omim_phecodes) \n",
    "omim = 'omim'"
   ]
  },
  {
   "cell_type": "code",
   "execution_count": 57,
   "metadata": {},
   "outputs": [],
   "source": [
    "# get top 15 features \n",
    "n_features = 15\n",
    "target_phecodes = target_phecodes + list(top_phecode_df['Phecode'].head(n_features).values)\n",
    "feature_set = list(target_phecodes)"
   ]
  },
  {
   "cell_type": "code",
   "execution_count": 58,
   "metadata": {},
   "outputs": [
    {
     "data": {
      "text/plain": [
       "[296.1,\n",
       " 296.2,\n",
       " 318.0,\n",
       " 351.0,\n",
       " 355.1,\n",
       " 278.11,\n",
       " 276.14,\n",
       " 174.11,\n",
       " 272.11,\n",
       " 512.9,\n",
       " 512.8,\n",
       " 512.7,\n",
       " 261.4,\n",
       " 386.9,\n",
       " 695.42,\n",
       " 789.0,\n",
       " 496.0]"
      ]
     },
     "execution_count": 58,
     "metadata": {},
     "output_type": "execute_result"
    }
   ],
   "source": [
    "feature_set"
   ]
  },
  {
   "cell_type": "markdown",
   "metadata": {},
   "source": [
    "### Random Forest Model \n",
    "Cases are MDD individuals identified as being SSRI switchers. Controls are MDD individuals not identified as SSRI switchers"
   ]
  },
  {
   "cell_type": "code",
   "execution_count": 59,
   "metadata": {},
   "outputs": [],
   "source": [
    "final_df = orig_df[feature_set + [\"n_age\", \"n_self_identified_sex\", \"MDD\"]]\n",
    "final_encoded = pd.get_dummies(final_df, columns=['n_self_identified_sex'], drop_first=False).astype(int)\n",
    "\n",
    "X_train, X_test, Y_train, Y_test = train_test_split(final_encoded[feature_set + [\"n_age\", \n",
    "                                                                                 \"n_self_identified_sex_Female\",\n",
    "                                                                                 \"n_self_identified_sex_Male\"]],\n",
    "                                                    final_encoded['MDD'],\n",
    "                                                    test_size=0.2, random_state=0)\n",
    "X_train.columns = X_train.columns.astype(str)\n",
    "X_test.columns = X_test.columns.astype(str)"
   ]
  },
  {
   "cell_type": "code",
   "execution_count": 60,
   "metadata": {},
   "outputs": [
    {
     "data": {
      "text/plain": [
       "MDD\n",
       "0    2570\n",
       "1     349\n",
       "Name: count, dtype: int64"
      ]
     },
     "execution_count": 60,
     "metadata": {},
     "output_type": "execute_result"
    }
   ],
   "source": [
    "final_encoded.MDD.value_counts()"
   ]
  },
  {
   "cell_type": "code",
   "execution_count": 61,
   "metadata": {},
   "outputs": [
    {
     "name": "stderr",
     "output_type": "stream",
     "text": [
      "/opt/conda/lib/python3.10/site-packages/sklearn/model_selection/_validation.py:425: FitFailedWarning: \n",
      "30 fits failed out of a total of 50.\n",
      "The score on these train-test partitions for these parameters will be set to nan.\n",
      "If these failures are not expected, you can try to debug them by setting error_score='raise'.\n",
      "\n",
      "Below are more details about the failures:\n",
      "--------------------------------------------------------------------------------\n",
      "30 fits failed with the following error:\n",
      "Traceback (most recent call last):\n",
      "  File \"/opt/conda/lib/python3.10/site-packages/sklearn/model_selection/_validation.py\", line 732, in _fit_and_score\n",
      "    estimator.fit(X_train, y_train, **fit_params)\n",
      "  File \"/opt/conda/lib/python3.10/site-packages/sklearn/base.py\", line 1144, in wrapper\n",
      "    estimator._validate_params()\n",
      "  File \"/opt/conda/lib/python3.10/site-packages/sklearn/base.py\", line 637, in _validate_params\n",
      "    validate_parameter_constraints(\n",
      "  File \"/opt/conda/lib/python3.10/site-packages/sklearn/utils/_param_validation.py\", line 95, in validate_parameter_constraints\n",
      "    raise InvalidParameterError(\n",
      "sklearn.utils._param_validation.InvalidParameterError: The 'min_samples_split' parameter of RandomForestClassifier must be an int in the range [2, inf) or a float in the range (0.0, 1.0]. Got 1 instead.\n",
      "\n",
      "  warnings.warn(some_fits_failed_message, FitFailedWarning)\n",
      "/opt/conda/lib/python3.10/site-packages/sklearn/model_selection/_search.py:976: UserWarning: One or more of the test scores are non-finite: [0.99057816        nan        nan 0.98929336        nan 0.98415418\n",
      "        nan        nan 0.98929336        nan]\n",
      "  warnings.warn(\n"
     ]
    }
   ],
   "source": [
    "from sklearn.ensemble import RandomForestClassifier\n",
    "from sklearn.model_selection import RandomizedSearchCV\n",
    "\n",
    "cv_params = {'n_estimators': [1000, 2000, 2500], \n",
    " 'max_depth': [10, 100],\n",
    " 'min_samples_split': [1, 5],\n",
    " 'min_samples_leaf': [1, 5],\n",
    " 'max_features': ['sqrt']}\n",
    "  \n",
    "rf = RandomForestClassifier(oob_score=True, random_state=42)\n",
    "clf = RandomizedSearchCV(estimator=rf, param_distributions=cv_params,\n",
    "                         cv=5, n_iter=10)\n",
    "\n",
    "# clf = RandomForestClassifier(n_estimators=100, random_state=42)\n",
    "# clf.fit(X_train, Y_train)\n",
    "clf.fit(X_train, Y_train)\n",
    "y_pred = clf.predict(X_test)\n",
    "risk_scores =clf.predict_proba(X_test)"
   ]
  },
  {
   "cell_type": "code",
   "execution_count": 102,
   "metadata": {},
   "outputs": [],
   "source": [
    "# y_pred = clf.predict(X_test)"
   ]
  },
  {
   "cell_type": "code",
   "execution_count": 96,
   "metadata": {},
   "outputs": [],
   "source": [
    "# scores = risk_scores[:,1]\n",
    "# score_df = pd.DataFrame({'MDD': Y_test.values, \n",
    "#                          'Scores': scores})\n",
    "            "
   ]
  },
  {
   "cell_type": "code",
   "execution_count": 97,
   "metadata": {},
   "outputs": [],
   "source": [
    "# sorted_results_df = score_df.sort_values(by='Scores', ascending=False)"
   ]
  },
  {
   "cell_type": "code",
   "execution_count": 98,
   "metadata": {},
   "outputs": [],
   "source": [
    "# total_pats = sorted_results_df.shape[0]\n",
    "# total_cases = sorted_results_df[target_label].sum()"
   ]
  },
  {
   "cell_type": "code",
   "execution_count": null,
   "metadata": {},
   "outputs": [],
   "source": [
    "# for p in 0.01, 0.05, 0.10, 0.20:\n",
    "#     percent_n = int(p*total_pats)\n",
    "#     n_cases = sorted_results_df.head(percent_n)['MDD'].sum()\n",
    "#     p_cases = (n_cases/total_cases)* 100 \n",
    "#     print(\"%.2f %.2f\" % (p*100, p_cases))"
   ]
  },
  {
   "cell_type": "code",
   "execution_count": 62,
   "metadata": {},
   "outputs": [
    {
     "ename": "NameError",
     "evalue": "name 'accuracy_score' is not defined",
     "output_type": "error",
     "traceback": [
      "\u001b[0;31m---------------------------------------------------------------------------\u001b[0m",
      "\u001b[0;31mNameError\u001b[0m                                 Traceback (most recent call last)",
      "Cell \u001b[0;32mIn[62], line 8\u001b[0m\n\u001b[1;32m      5\u001b[0m y_pred \u001b[38;5;241m=\u001b[39m best_model\u001b[38;5;241m.\u001b[39mpredict(X_test)\n\u001b[1;32m      7\u001b[0m \u001b[38;5;66;03m# Calculate the metrics\u001b[39;00m\n\u001b[0;32m----> 8\u001b[0m accuracy \u001b[38;5;241m=\u001b[39m \u001b[43maccuracy_score\u001b[49m(Y_test, y_pred)\n\u001b[1;32m      9\u001b[0m precision \u001b[38;5;241m=\u001b[39m precision_score(Y_test, y_pred)\n\u001b[1;32m     10\u001b[0m recall \u001b[38;5;241m=\u001b[39m recall_score(Y_test, y_pred)\n",
      "\u001b[0;31mNameError\u001b[0m: name 'accuracy_score' is not defined"
     ]
    }
   ],
   "source": [
    "# Access the best estimator (model) found by RandomizedSearchCV\n",
    "best_model = clf.best_estimator_\n",
    "\n",
    "# Make predictions on the test set\n",
    "y_pred = best_model.predict(X_test)\n",
    "\n",
    "# Calculate the metrics\n",
    "accuracy = accuracy_score(Y_test, y_pred)\n",
    "precision = precision_score(Y_test, y_pred)\n",
    "recall = recall_score(Y_test, y_pred)\n",
    "f1 = f1_score(Y_test, y_pred)\n",
    "\n",
    "# Print the metrics\n",
    "print(f\"Accuracy: {accuracy:.4f}\")\n",
    "print(f\"Precision: {precision:.4f}\")\n",
    "print(f\"Recall: {recall:.4f}\")\n",
    "print(f\"F1 Score: {f1:.4f}\")"
   ]
  },
  {
   "cell_type": "code",
   "execution_count": 63,
   "metadata": {},
   "outputs": [
    {
     "name": "stdout",
     "output_type": "stream",
     "text": [
      "Accuracy Score: 0.9897260273972602\n",
      "Precision Score: 1.0\n",
      "Recall Score: 0.9166666666666666\n",
      "F1 Score: 0.9565217391304348\n",
      "\n"
     ]
    }
   ],
   "source": [
    "from sklearn.metrics import accuracy_score, precision_score, recall_score, f1_score\n",
    "\n",
    "#Create the function for giving different evaluation metrics\n",
    "print(\"Accuracy Score:\", accuracy_score(Y_test, y_pred))\n",
    "print(\"Precision Score:\", precision_score(Y_test, y_pred))\n",
    "print(\"Recall Score:\", recall_score(Y_test, y_pred))\n",
    "print(\"F1 Score:\", f1_score(Y_test, y_pred))\n",
    "print()"
   ]
  },
  {
   "cell_type": "code",
   "execution_count": 64,
   "metadata": {},
   "outputs": [
    {
     "name": "stdout",
     "output_type": "stream",
     "text": [
      "Training Accuracy: 0.9922912205567452\n",
      "Test Accuracy: 0.9897260273972602\n"
     ]
    }
   ],
   "source": [
    "train_pred = clf.predict(X_train)\n",
    "train_accuracy = accuracy_score(Y_train, train_pred)\n",
    "\n",
    "# Evaluate accuracy on test data\n",
    "test_accuracy = accuracy_score(Y_test, y_pred)\n",
    "\n",
    "print(f\"Training Accuracy: {train_accuracy}\")\n",
    "print(f\"Test Accuracy: {test_accuracy}\")"
   ]
  },
  {
   "cell_type": "code",
   "execution_count": 65,
   "metadata": {},
   "outputs": [
    {
     "name": "stdout",
     "output_type": "stream",
     "text": [
      "Mean Absolute Error: 0.010273972602739725\n"
     ]
    }
   ],
   "source": [
    "from sklearn.metrics import mean_absolute_error\n",
    "\n",
    "# Calculate MAE\n",
    "mae = mean_absolute_error(Y_test, y_pred)\n",
    "print(f\"Mean Absolute Error: {mae}\")"
   ]
  },
  {
   "cell_type": "code",
   "execution_count": 66,
   "metadata": {},
   "outputs": [
    {
     "name": "stdout",
     "output_type": "stream",
     "text": [
      "OOB Score: 0.9901498929336189\n"
     ]
    }
   ],
   "source": [
    "# Out-of-bag score\n",
    "oob_score = clf.best_estimator_.oob_score_\n",
    "print(f\"OOB Score: {oob_score}\")"
   ]
  },
  {
   "cell_type": "code",
   "execution_count": 68,
   "metadata": {},
   "outputs": [
    {
     "name": "stdout",
     "output_type": "stream",
     "text": [
      "Average Precision Score: 0.9531479321014686\n"
     ]
    },
    {
     "data": {
      "image/png": "[encoded data removed]",
      "text/plain": [
       "<Figure size 640x480 with 1 Axes>"
      ]
     },
     "metadata": {},
     "output_type": "display_data"
    }
   ],
   "source": [
    "from sklearn.metrics import precision_recall_curve, average_precision_score\n",
    "precision, recall, thresholds = precision_recall_curve(Y_test, risk_scores[:, 1])\n",
    "average_precision = average_precision_score(Y_test, risk_scores[:, 1])\n",
    "\n",
    "print(f\"Average Precision Score: {average_precision}\")\n",
    "\n",
    "plt.figure()\n",
    "plt.plot(recall, precision, label=f\"AP = {average_precision:.2f}\")\n",
    "plt.xlabel(\"Recall\")\n",
    "plt.ylabel(\"Precision\")\n",
    "plt.title(\"Precision-Recall Curve\")\n",
    "plt.legend(loc=\"best\")\n",
    "plt.grid()\n",
    "plt.show()"
   ]
  },
  {
   "cell_type": "code",
   "execution_count": 69,
   "metadata": {},
   "outputs": [
    {
     "data": {
      "image/png": "[encoded data removed]",
      "text/plain": [
       "<Figure size 640x480 with 1 Axes>"
      ]
     },
     "metadata": {},
     "output_type": "display_data"
    }
   ],
   "source": [
    "# learning curve\n",
    "from sklearn.model_selection import learning_curve\n",
    "import matplotlib.pyplot as plt\n",
    "\n",
    "train_sizes, train_scores, test_scores = learning_curve(\n",
    "    clf.best_estimator_, X_train, Y_train, cv=5, scoring='accuracy'\n",
    ")\n",
    "\n",
    "train_scores_mean = train_scores.mean(axis=1)\n",
    "test_scores_mean = test_scores.mean(axis=1)\n",
    "\n",
    "plt.plot(train_sizes, train_scores_mean, label=\"Training Score\")\n",
    "plt.plot(train_sizes, test_scores_mean, label=\"Validation Score\")\n",
    "plt.legend()\n",
    "plt.xlabel(\"Training Size\")\n",
    "plt.ylabel(\"Accuracy\")\n",
    "plt.title(\"Learning Curve\")\n",
    "plt.show()"
   ]
  },
  {
   "cell_type": "code",
   "execution_count": null,
   "metadata": {},
   "outputs": [],
   "source": []
  },
  {
   "cell_type": "code",
   "execution_count": 80,
   "metadata": {},
   "outputs": [],
   "source": [
    "# !pip install shap"
   ]
  },
  {
   "cell_type": "code",
   "execution_count": 107,
   "metadata": {},
   "outputs": [
    {
     "name": "stdout",
     "output_type": "stream",
     "text": [
      "Computing shap values\n"
     ]
    }
   ],
   "source": [
    "import shap\n",
    "print(\"Computing shap values\")\n",
    "explainer=shap.TreeExplainer(clf.best_estimator_)\n",
    "shap_values = explainer(X_train)"
   ]
  },
  {
   "cell_type": "code",
   "execution_count": 123,
   "metadata": {},
   "outputs": [],
   "source": [
    "feature_names = feature_set + [\"n_age\", \"n_self_identified_sex_Female\",\"n_self_identified_sex_Male\"]\n",
    "trained_weights = clf.best_estimator_.feature_importances_\n",
    "feature_weight_df = pd.DataFrame(list(zip(feature_names, np.transpose(trained_weights)))).sort_values([1], ascending=False)\n",
    "feature_weight_df.columns = ['feature', 'weight']\n"
   ]
  },
  {
   "cell_type": "code",
   "execution_count": 129,
   "metadata": {},
   "outputs": [
    {
     "data": {
      "image/png": "[encoded data removed]",
      "text/plain": [
       "<Figure size 640x480 with 1 Axes>"
      ]
     },
     "metadata": {},
     "output_type": "display_data"
    }
   ],
   "source": [
    "feature_names = feature_set + [\"n_age\", \"n_self_identified_sex_Female\",\"n_self_identified_sex_Male\"]\n",
    "importances = clf.best_estimator_.feature_importances_\n",
    "# feature_imp_df = pd.DataFrame({'Feature': feature_names, 'Gini Importance': importances}).sort_values('Gini Importance', ascending=False) \n",
    "# print(feature_imp_df)\n",
    "indices = np.argsort(importances)\n",
    "\n",
    "plt.title('Feature Importances')\n",
    "plt.barh(range(len(indices)), importances[indices], color='b', align='center')\n",
    "plt.yticks(range(len(indices)), [feature_names[i] for i in indices])\n",
    "plt.xlabel('Gini Importance')\n",
    "plt.savefig(\"FeatureImportance.png\")"
   ]
  },
  {
   "cell_type": "code",
   "execution_count": 124,
   "metadata": {},
   "outputs": [
    {
     "data": {
      "text/html": [
       "<div>\n",
       "<style scoped>\n",
       "    .dataframe tbody tr th:only-of-type {\n",
       "        vertical-align: middle;\n",
       "    }\n",
       "\n",
       "    .dataframe tbody tr th {\n",
       "        vertical-align: top;\n",
       "    }\n",
       "\n",
       "    .dataframe thead th {\n",
       "        text-align: right;\n",
       "    }\n",
       "</style>\n",
       "<table border=\"1\" class=\"dataframe\">\n",
       "  <thead>\n",
       "    <tr style=\"text-align: right;\">\n",
       "      <th></th>\n",
       "      <th>feature</th>\n",
       "      <th>weight</th>\n",
       "    </tr>\n",
       "  </thead>\n",
       "  <tbody>\n",
       "    <tr>\n",
       "      <th>1</th>\n",
       "      <td>296.2</td>\n",
       "      <td>0.312815</td>\n",
       "    </tr>\n",
       "    <tr>\n",
       "      <th>12</th>\n",
       "      <td>512.7</td>\n",
       "      <td>0.130224</td>\n",
       "    </tr>\n",
       "    <tr>\n",
       "      <th>9</th>\n",
       "      <td>512.9</td>\n",
       "      <td>0.112537</td>\n",
       "    </tr>\n",
       "    <tr>\n",
       "      <th>6</th>\n",
       "      <td>318.0</td>\n",
       "      <td>0.090218</td>\n",
       "    </tr>\n",
       "    <tr>\n",
       "      <th>16</th>\n",
       "      <td>339.0</td>\n",
       "      <td>0.085931</td>\n",
       "    </tr>\n",
       "    <tr>\n",
       "      <th>3</th>\n",
       "      <td>591.0</td>\n",
       "      <td>0.065412</td>\n",
       "    </tr>\n",
       "    <tr>\n",
       "      <th>0</th>\n",
       "      <td>296.1</td>\n",
       "      <td>0.049059</td>\n",
       "    </tr>\n",
       "    <tr>\n",
       "      <th>2</th>\n",
       "      <td>770.0</td>\n",
       "      <td>0.046515</td>\n",
       "    </tr>\n",
       "    <tr>\n",
       "      <th>8</th>\n",
       "      <td>327.3</td>\n",
       "      <td>0.029302</td>\n",
       "    </tr>\n",
       "    <tr>\n",
       "      <th>7</th>\n",
       "      <td>276.14</td>\n",
       "      <td>0.022168</td>\n",
       "    </tr>\n",
       "    <tr>\n",
       "      <th>4</th>\n",
       "      <td>317.0</td>\n",
       "      <td>0.016353</td>\n",
       "    </tr>\n",
       "    <tr>\n",
       "      <th>14</th>\n",
       "      <td>411.4</td>\n",
       "      <td>0.015807</td>\n",
       "    </tr>\n",
       "    <tr>\n",
       "      <th>5</th>\n",
       "      <td>317.1</td>\n",
       "      <td>0.014019</td>\n",
       "    </tr>\n",
       "    <tr>\n",
       "      <th>13</th>\n",
       "      <td>174.11</td>\n",
       "      <td>0.004756</td>\n",
       "    </tr>\n",
       "    <tr>\n",
       "      <th>10</th>\n",
       "      <td>555.1</td>\n",
       "      <td>0.001902</td>\n",
       "    </tr>\n",
       "    <tr>\n",
       "      <th>15</th>\n",
       "      <td>275.3</td>\n",
       "      <td>0.001535</td>\n",
       "    </tr>\n",
       "    <tr>\n",
       "      <th>17</th>\n",
       "      <td>n_age</td>\n",
       "      <td>0.000616</td>\n",
       "    </tr>\n",
       "    <tr>\n",
       "      <th>11</th>\n",
       "      <td>182.0</td>\n",
       "      <td>0.000573</td>\n",
       "    </tr>\n",
       "    <tr>\n",
       "      <th>18</th>\n",
       "      <td>n_self_identified_sex_Female</td>\n",
       "      <td>0.000142</td>\n",
       "    </tr>\n",
       "    <tr>\n",
       "      <th>19</th>\n",
       "      <td>n_self_identified_sex_Male</td>\n",
       "      <td>0.000117</td>\n",
       "    </tr>\n",
       "  </tbody>\n",
       "</table>\n",
       "</div>"
      ],
      "text/plain": [
       "                         feature    weight\n",
       "1                          296.2  0.312815\n",
       "12                         512.7  0.130224\n",
       "9                          512.9  0.112537\n",
       "6                          318.0  0.090218\n",
       "16                         339.0  0.085931\n",
       "3                          591.0  0.065412\n",
       "0                          296.1  0.049059\n",
       "2                          770.0  0.046515\n",
       "8                          327.3  0.029302\n",
       "7                         276.14  0.022168\n",
       "4                          317.0  0.016353\n",
       "14                         411.4  0.015807\n",
       "5                          317.1  0.014019\n",
       "13                        174.11  0.004756\n",
       "10                         555.1  0.001902\n",
       "15                         275.3  0.001535\n",
       "17                         n_age  0.000616\n",
       "11                         182.0  0.000573\n",
       "18  n_self_identified_sex_Female  0.000142\n",
       "19    n_self_identified_sex_Male  0.000117"
      ]
     },
     "execution_count": 124,
     "metadata": {},
     "output_type": "execute_result"
    }
   ],
   "source": [
    "feature_weight_df"
   ]
  },
  {
   "cell_type": "code",
   "execution_count": null,
   "metadata": {},
   "outputs": [],
   "source": []
  },
  {
   "cell_type": "code",
   "execution_count": null,
   "metadata": {},
   "outputs": [],
   "source": []
  },
  {
   "cell_type": "code",
   "execution_count": null,
   "metadata": {},
   "outputs": [],
   "source": []
  },
  {
   "cell_type": "code",
   "execution_count": null,
   "metadata": {},
   "outputs": [],
   "source": []
  },
  {
   "cell_type": "code",
   "execution_count": 97,
   "metadata": {},
   "outputs": [
    {
     "data": {
      "text/plain": [
       "<Axes: >"
      ]
     },
     "execution_count": 97,
     "metadata": {},
     "output_type": "execute_result"
    },
    {
     "data": {
      "image/png": "[encoded data removed]",
      "text/plain": [
       "<Figure size 1600x700 with 2 Axes>"
      ]
     },
     "metadata": {},
     "output_type": "display_data"
    }
   ],
   "source": [
    "matrix = confusion_matrix(Y_test, y_pred)\n",
    "# matrix = matrix.astype('float') / matrix.sum(axis=1)[:, np.newaxis]\n",
    "\n",
    "# Build the plot\n",
    "plt.figure(figsize=(16,7))\n",
    "sns.set(font_scale=1.4)\n",
    "sns.heatmap(matrix, annot=True, annot_kws={'size':10},\n",
    "            cmap=plt.cm.Greens, linewidths=0.2)\n",
    "\n",
    "# # Add labels to the plot\n",
    "# class_names = ['Spruce/Fir', 'Lodgepole Pine', 'Ponderosa Pine', \n",
    "#                'Cottonwood/Willow', 'Aspen', 'Douglas-fir',    \n",
    "#                'Krummholz']\n",
    "# tick_marks = np.arange(len(class_names))\n",
    "# tick_marks2 = tick_marks + 0.5\n",
    "# plt.xticks(tick_marks, class_names, rotation=25)\n",
    "# plt.yticks(tick_marks2, class_names, rotation=0)\n",
    "# plt.xlabel('Predicted label')\n",
    "# plt.ylabel('True label')\n",
    "# plt.title('Confusion Matrix for Random Forest Model')\n",
    "# plt.show()"
   ]
  },
  {
   "cell_type": "code",
   "execution_count": null,
   "metadata": {},
   "outputs": [],
   "source": []
  },
  {
   "cell_type": "code",
   "execution_count": null,
   "metadata": {},
   "outputs": [],
   "source": [
    "risk_scores =clf.predict_proba(X_test_clean)"
   ]
  },
  {
   "cell_type": "code",
   "execution_count": 91,
   "metadata": {},
   "outputs": [],
   "source": [
    "probabilities = clf.predict_proba(X_test)"
   ]
  },
  {
   "cell_type": "code",
   "execution_count": 82,
   "metadata": {},
   "outputs": [
    {
     "data": {
      "text/plain": [
       "array([[0.56, 0.44],\n",
       "       [1.  , 0.  ],\n",
       "       [0.99, 0.01],\n",
       "       ...,\n",
       "       [1.  , 0.  ],\n",
       "       [1.  , 0.  ],\n",
       "       [0.02, 0.98]])"
      ]
     },
     "execution_count": 82,
     "metadata": {},
     "output_type": "execute_result"
    }
   ],
   "source": [
    "probabilities"
   ]
  },
  {
   "cell_type": "code",
   "execution_count": 105,
   "metadata": {},
   "outputs": [
    {
     "ename": "AttributeError",
     "evalue": "'RandomizedSearchCV' object has no attribute 'feature_importances_'",
     "output_type": "error",
     "traceback": [
      "\u001b[0;31m---------------------------------------------------------------------------\u001b[0m",
      "\u001b[0;31mAttributeError\u001b[0m                            Traceback (most recent call last)",
      "Cell \u001b[0;32mIn[105], line 2\u001b[0m\n\u001b[1;32m      1\u001b[0m feature_names \u001b[38;5;241m=\u001b[39m feature_set \u001b[38;5;241m+\u001b[39m [\u001b[38;5;124m\"\u001b[39m\u001b[38;5;124mn_age\u001b[39m\u001b[38;5;124m\"\u001b[39m, \u001b[38;5;124m\"\u001b[39m\u001b[38;5;124mn_self_identified_sex_Female\u001b[39m\u001b[38;5;124m\"\u001b[39m,\u001b[38;5;124m\"\u001b[39m\u001b[38;5;124mn_self_identified_sex_Male\u001b[39m\u001b[38;5;124m\"\u001b[39m]\n\u001b[0;32m----> 2\u001b[0m importances \u001b[38;5;241m=\u001b[39m \u001b[43mclf\u001b[49m\u001b[38;5;241;43m.\u001b[39;49m\u001b[43mfeature_importances_\u001b[49m\n\u001b[1;32m      3\u001b[0m feature_imp_df \u001b[38;5;241m=\u001b[39m pd\u001b[38;5;241m.\u001b[39mDataFrame({\u001b[38;5;124m'\u001b[39m\u001b[38;5;124mFeature\u001b[39m\u001b[38;5;124m'\u001b[39m: feature_names, \u001b[38;5;124m'\u001b[39m\u001b[38;5;124mGini Importance\u001b[39m\u001b[38;5;124m'\u001b[39m: importances})\u001b[38;5;241m.\u001b[39msort_values(\u001b[38;5;124m'\u001b[39m\u001b[38;5;124mGini Importance\u001b[39m\u001b[38;5;124m'\u001b[39m, ascending\u001b[38;5;241m=\u001b[39m\u001b[38;5;28;01mFalse\u001b[39;00m) \n\u001b[1;32m      4\u001b[0m \u001b[38;5;28mprint\u001b[39m(feature_imp_df)\n",
      "\u001b[0;31mAttributeError\u001b[0m: 'RandomizedSearchCV' object has no attribute 'feature_importances_'"
     ]
    }
   ],
   "source": [
    "feature_names = feature_set + [\"n_age\", \"n_self_identified_sex_Female\",\"n_self_identified_sex_Male\"]\n",
    "importances = clf.feature_importances_\n",
    "feature_imp_df = pd.DataFrame({'Feature': feature_names, 'Gini Importance': importances}).sort_values('Gini Importance', ascending=False) \n",
    "print(feature_imp_df)\n",
    "\n",
    "forest_importances = pd.Series(importances, index=feature_names)\n",
    "\n",
    "fig, ax = plt.subplots()\n",
    "forest_importances.plot.bar(yerr=std, ax=ax)\n",
    "ax.set_title(\"Feature importances using MDI\")\n",
    "ax.set_ylabel(\"Mean decrease in impurity\")\n",
    "fig.tight_layout()"
   ]
  },
  {
   "cell_type": "code",
   "execution_count": 95,
   "metadata": {},
   "outputs": [
    {
     "data": {
      "text/plain": [
       "array([[504,   0],\n",
       "       [ 11,  72]])"
      ]
     },
     "execution_count": 95,
     "metadata": {},
     "output_type": "execute_result"
    }
   ],
   "source": [
    "from sklearn.metrics import confusion_matrix\n",
    "confusion_matrix(Y_test, y_pred)"
   ]
  },
  {
   "cell_type": "code",
   "execution_count": null,
   "metadata": {},
   "outputs": [],
   "source": []
  }
 ],
 "metadata": {
  "kernelspec": {
   "display_name": "Python 3",
   "language": "python",
   "name": "python3"
  },
  "language_info": {
   "codemirror_mode": {
    "name": "ipython",
    "version": 3
   },
   "file_extension": ".py",
   "mimetype": "text/x-python",
   "name": "python",
   "nbconvert_exporter": "python",
   "pygments_lexer": "ipython3",
   "version": "3.10.12"
  },
  "toc": {
   "base_numbering": 1,
   "nav_menu": {},
   "number_sections": true,
   "sideBar": true,
   "skip_h1_title": false,
   "title_cell": "Table of Contents",
   "title_sidebar": "Contents",
   "toc_cell": false,
   "toc_position": {},
   "toc_section_display": true,
   "toc_window_display": false
  }
 },
 "nbformat": 4,
 "nbformat_minor": 2
}
